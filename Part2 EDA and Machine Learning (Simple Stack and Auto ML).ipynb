{
 "cells": [
  {
   "cell_type": "markdown",
   "metadata": {},
   "source": [
    "# Stage 2 ： EDA and Machine Learning \n",
    "****\n",
    "+ Section1: EDA \n",
    "+ Section2: ML Model\n",
    "****"
   ]
  },
  {
   "cell_type": "markdown",
   "metadata": {},
   "source": [
    "# Section1: EDA"
   ]
  },
  {
   "cell_type": "code",
   "execution_count": 1,
   "metadata": {
    "collapsed": true
   },
   "outputs": [],
   "source": [
    "from IPython.display import Image\n",
    "import pandas as pd\n",
    "import numpy as np\n",
    "import matplotlib.pyplot as plt\n",
    "import seaborn as sns\n",
    "%matplotlib inline"
   ]
  },
  {
   "cell_type": "code",
   "execution_count": 10,
   "metadata": {
    "collapsed": true
   },
   "outputs": [],
   "source": [
    "df1 = pd.read_csv('~/Desktop/data.csv')"
   ]
  },
  {
   "cell_type": "code",
   "execution_count": 11,
   "metadata": {
    "scrolled": true
   },
   "outputs": [
    {
     "data": {
      "text/html": [
       "<div>\n",
       "<style>\n",
       "    .dataframe thead tr:only-child th {\n",
       "        text-align: right;\n",
       "    }\n",
       "\n",
       "    .dataframe thead th {\n",
       "        text-align: left;\n",
       "    }\n",
       "\n",
       "    .dataframe tbody tr th {\n",
       "        vertical-align: top;\n",
       "    }\n",
       "</style>\n",
       "<table border=\"1\" class=\"dataframe\">\n",
       "  <thead>\n",
       "    <tr style=\"text-align: right;\">\n",
       "      <th></th>\n",
       "      <th>Contact_Diversity</th>\n",
       "      <th>Contact_Area_Diversity</th>\n",
       "      <th>Visiting_Area_Diversity</th>\n",
       "      <th>Roam_Ratio</th>\n",
       "      <th>Calling_Duration</th>\n",
       "      <th>Called_Duration</th>\n",
       "      <th>Transfered_Duration</th>\n",
       "      <th>Domestic_Duration</th>\n",
       "      <th>International_Duration</th>\n",
       "      <th>T1_Flux</th>\n",
       "      <th>...</th>\n",
       "      <th>T3_Flux</th>\n",
       "      <th>T4_Flux</th>\n",
       "      <th>T5_Flux</th>\n",
       "      <th>T6_Flux</th>\n",
       "      <th>T7_Flux</th>\n",
       "      <th>T8_Flux</th>\n",
       "      <th>T9_Flux</th>\n",
       "      <th>T10_Flux</th>\n",
       "      <th>T11_Flux</th>\n",
       "      <th>Response</th>\n",
       "    </tr>\n",
       "  </thead>\n",
       "  <tbody>\n",
       "    <tr>\n",
       "      <th>0</th>\n",
       "      <td>142</td>\n",
       "      <td>15</td>\n",
       "      <td>1</td>\n",
       "      <td>0.000000</td>\n",
       "      <td>44299</td>\n",
       "      <td>30344</td>\n",
       "      <td>0</td>\n",
       "      <td>74643</td>\n",
       "      <td>0</td>\n",
       "      <td>1314.083604</td>\n",
       "      <td>...</td>\n",
       "      <td>0.0</td>\n",
       "      <td>480.057820</td>\n",
       "      <td>278.158104</td>\n",
       "      <td>307.056765</td>\n",
       "      <td>2116.355492</td>\n",
       "      <td>200.491428</td>\n",
       "      <td>2397.611697</td>\n",
       "      <td>63.755345</td>\n",
       "      <td>0.0</td>\n",
       "      <td>0</td>\n",
       "    </tr>\n",
       "    <tr>\n",
       "      <th>1</th>\n",
       "      <td>201</td>\n",
       "      <td>27</td>\n",
       "      <td>14</td>\n",
       "      <td>0.030841</td>\n",
       "      <td>31929</td>\n",
       "      <td>28958</td>\n",
       "      <td>0</td>\n",
       "      <td>60887</td>\n",
       "      <td>0</td>\n",
       "      <td>1071.357919</td>\n",
       "      <td>...</td>\n",
       "      <td>0.0</td>\n",
       "      <td>324.812896</td>\n",
       "      <td>172.202370</td>\n",
       "      <td>0.000000</td>\n",
       "      <td>304.250161</td>\n",
       "      <td>173.416031</td>\n",
       "      <td>2308.663998</td>\n",
       "      <td>8.639757</td>\n",
       "      <td>0.0</td>\n",
       "      <td>0</td>\n",
       "    </tr>\n",
       "    <tr>\n",
       "      <th>2</th>\n",
       "      <td>144</td>\n",
       "      <td>24</td>\n",
       "      <td>9</td>\n",
       "      <td>0.183239</td>\n",
       "      <td>48788</td>\n",
       "      <td>36111</td>\n",
       "      <td>152</td>\n",
       "      <td>85051</td>\n",
       "      <td>0</td>\n",
       "      <td>342.847324</td>\n",
       "      <td>...</td>\n",
       "      <td>0.0</td>\n",
       "      <td>340.416939</td>\n",
       "      <td>205.918565</td>\n",
       "      <td>0.000000</td>\n",
       "      <td>1509.974081</td>\n",
       "      <td>218.069456</td>\n",
       "      <td>982.919087</td>\n",
       "      <td>0.000000</td>\n",
       "      <td>0.0</td>\n",
       "      <td>0</td>\n",
       "    </tr>\n",
       "    <tr>\n",
       "      <th>3</th>\n",
       "      <td>64</td>\n",
       "      <td>15</td>\n",
       "      <td>6</td>\n",
       "      <td>0.266150</td>\n",
       "      <td>25217</td>\n",
       "      <td>13847</td>\n",
       "      <td>0</td>\n",
       "      <td>39064</td>\n",
       "      <td>0</td>\n",
       "      <td>515.709960</td>\n",
       "      <td>...</td>\n",
       "      <td>0.0</td>\n",
       "      <td>253.693858</td>\n",
       "      <td>392.137079</td>\n",
       "      <td>537.145316</td>\n",
       "      <td>1312.793795</td>\n",
       "      <td>313.872932</td>\n",
       "      <td>1414.516294</td>\n",
       "      <td>0.000000</td>\n",
       "      <td>0.0</td>\n",
       "      <td>0</td>\n",
       "    </tr>\n",
       "    <tr>\n",
       "      <th>4</th>\n",
       "      <td>37</td>\n",
       "      <td>7</td>\n",
       "      <td>1</td>\n",
       "      <td>0.000000</td>\n",
       "      <td>5769</td>\n",
       "      <td>6574</td>\n",
       "      <td>0</td>\n",
       "      <td>12343</td>\n",
       "      <td>0</td>\n",
       "      <td>287.886829</td>\n",
       "      <td>...</td>\n",
       "      <td>0.0</td>\n",
       "      <td>290.421814</td>\n",
       "      <td>23.582611</td>\n",
       "      <td>7.794229</td>\n",
       "      <td>121.901586</td>\n",
       "      <td>412.775853</td>\n",
       "      <td>1149.341331</td>\n",
       "      <td>0.000000</td>\n",
       "      <td>0.0</td>\n",
       "      <td>0</td>\n",
       "    </tr>\n",
       "  </tbody>\n",
       "</table>\n",
       "<p>5 rows × 21 columns</p>\n",
       "</div>"
      ],
      "text/plain": [
       "   Contact_Diversity  Contact_Area_Diversity  Visiting_Area_Diversity  \\\n",
       "0                142                      15                        1   \n",
       "1                201                      27                       14   \n",
       "2                144                      24                        9   \n",
       "3                 64                      15                        6   \n",
       "4                 37                       7                        1   \n",
       "\n",
       "   Roam_Ratio  Calling_Duration  Called_Duration  Transfered_Duration  \\\n",
       "0    0.000000             44299            30344                    0   \n",
       "1    0.030841             31929            28958                    0   \n",
       "2    0.183239             48788            36111                  152   \n",
       "3    0.266150             25217            13847                    0   \n",
       "4    0.000000              5769             6574                    0   \n",
       "\n",
       "   Domestic_Duration  International_Duration      T1_Flux    ...     T3_Flux  \\\n",
       "0              74643                       0  1314.083604    ...         0.0   \n",
       "1              60887                       0  1071.357919    ...         0.0   \n",
       "2              85051                       0   342.847324    ...         0.0   \n",
       "3              39064                       0   515.709960    ...         0.0   \n",
       "4              12343                       0   287.886829    ...         0.0   \n",
       "\n",
       "      T4_Flux     T5_Flux     T6_Flux      T7_Flux     T8_Flux      T9_Flux  \\\n",
       "0  480.057820  278.158104  307.056765  2116.355492  200.491428  2397.611697   \n",
       "1  324.812896  172.202370    0.000000   304.250161  173.416031  2308.663998   \n",
       "2  340.416939  205.918565    0.000000  1509.974081  218.069456   982.919087   \n",
       "3  253.693858  392.137079  537.145316  1312.793795  313.872932  1414.516294   \n",
       "4  290.421814   23.582611    7.794229   121.901586  412.775853  1149.341331   \n",
       "\n",
       "    T10_Flux  T11_Flux  Response  \n",
       "0  63.755345       0.0         0  \n",
       "1   8.639757       0.0         0  \n",
       "2   0.000000       0.0         0  \n",
       "3   0.000000       0.0         0  \n",
       "4   0.000000       0.0         0  \n",
       "\n",
       "[5 rows x 21 columns]"
      ]
     },
     "execution_count": 11,
     "metadata": {},
     "output_type": "execute_result"
    }
   ],
   "source": [
    "df1.head()"
   ]
  },
  {
   "cell_type": "code",
   "execution_count": 12,
   "metadata": {
    "scrolled": true
   },
   "outputs": [
    {
     "data": {
      "text/html": [
       "<div>\n",
       "<style>\n",
       "    .dataframe thead tr:only-child th {\n",
       "        text-align: right;\n",
       "    }\n",
       "\n",
       "    .dataframe thead th {\n",
       "        text-align: left;\n",
       "    }\n",
       "\n",
       "    .dataframe tbody tr th {\n",
       "        vertical-align: top;\n",
       "    }\n",
       "</style>\n",
       "<table border=\"1\" class=\"dataframe\">\n",
       "  <thead>\n",
       "    <tr style=\"text-align: right;\">\n",
       "      <th></th>\n",
       "      <th>Contact_Diversity</th>\n",
       "      <th>Contact_Area_Diversity</th>\n",
       "      <th>Visiting_Area_Diversity</th>\n",
       "      <th>Roam_Ratio</th>\n",
       "      <th>Calling_Duration</th>\n",
       "      <th>Called_Duration</th>\n",
       "      <th>Transfered_Duration</th>\n",
       "      <th>Domestic_Duration</th>\n",
       "      <th>International_Duration</th>\n",
       "      <th>T1_Flux</th>\n",
       "      <th>...</th>\n",
       "      <th>T3_Flux</th>\n",
       "      <th>T4_Flux</th>\n",
       "      <th>T5_Flux</th>\n",
       "      <th>T6_Flux</th>\n",
       "      <th>T7_Flux</th>\n",
       "      <th>T8_Flux</th>\n",
       "      <th>T9_Flux</th>\n",
       "      <th>T10_Flux</th>\n",
       "      <th>T11_Flux</th>\n",
       "      <th>Response</th>\n",
       "    </tr>\n",
       "  </thead>\n",
       "  <tbody>\n",
       "    <tr>\n",
       "      <th>count</th>\n",
       "      <td>2517.000000</td>\n",
       "      <td>2517.000000</td>\n",
       "      <td>2517.000000</td>\n",
       "      <td>2517.000000</td>\n",
       "      <td>2517.000000</td>\n",
       "      <td>2517.000000</td>\n",
       "      <td>2517.000000</td>\n",
       "      <td>2517.000000</td>\n",
       "      <td>2517.000000</td>\n",
       "      <td>2517.000000</td>\n",
       "      <td>...</td>\n",
       "      <td>2517.000000</td>\n",
       "      <td>2517.000000</td>\n",
       "      <td>2517.000000</td>\n",
       "      <td>2517.000000</td>\n",
       "      <td>2517.000000</td>\n",
       "      <td>2517.000000</td>\n",
       "      <td>2517.000000</td>\n",
       "      <td>2517.000000</td>\n",
       "      <td>2517.000000</td>\n",
       "      <td>2517.000000</td>\n",
       "    </tr>\n",
       "    <tr>\n",
       "      <th>mean</th>\n",
       "      <td>174.009138</td>\n",
       "      <td>16.188717</td>\n",
       "      <td>3.763210</td>\n",
       "      <td>0.149669</td>\n",
       "      <td>37211.470401</td>\n",
       "      <td>35655.112435</td>\n",
       "      <td>96.596345</td>\n",
       "      <td>72948.368296</td>\n",
       "      <td>14.810886</td>\n",
       "      <td>927.551103</td>\n",
       "      <td>...</td>\n",
       "      <td>12.063846</td>\n",
       "      <td>741.379964</td>\n",
       "      <td>380.111372</td>\n",
       "      <td>372.998694</td>\n",
       "      <td>1456.009189</td>\n",
       "      <td>411.254898</td>\n",
       "      <td>1831.773772</td>\n",
       "      <td>21.415748</td>\n",
       "      <td>7.294859</td>\n",
       "      <td>0.029797</td>\n",
       "    </tr>\n",
       "    <tr>\n",
       "      <th>std</th>\n",
       "      <td>133.935185</td>\n",
       "      <td>11.248483</td>\n",
       "      <td>3.624181</td>\n",
       "      <td>0.289642</td>\n",
       "      <td>35362.505943</td>\n",
       "      <td>32903.018563</td>\n",
       "      <td>853.054931</td>\n",
       "      <td>64390.642363</td>\n",
       "      <td>224.903620</td>\n",
       "      <td>963.544389</td>\n",
       "      <td>...</td>\n",
       "      <td>101.033679</td>\n",
       "      <td>904.425268</td>\n",
       "      <td>472.564509</td>\n",
       "      <td>565.718830</td>\n",
       "      <td>1443.192185</td>\n",
       "      <td>574.328404</td>\n",
       "      <td>1788.111242</td>\n",
       "      <td>100.710655</td>\n",
       "      <td>87.786558</td>\n",
       "      <td>0.170062</td>\n",
       "    </tr>\n",
       "    <tr>\n",
       "      <th>min</th>\n",
       "      <td>1.000000</td>\n",
       "      <td>1.000000</td>\n",
       "      <td>1.000000</td>\n",
       "      <td>0.000000</td>\n",
       "      <td>0.000000</td>\n",
       "      <td>0.000000</td>\n",
       "      <td>0.000000</td>\n",
       "      <td>14.000000</td>\n",
       "      <td>0.000000</td>\n",
       "      <td>0.000000</td>\n",
       "      <td>...</td>\n",
       "      <td>0.000000</td>\n",
       "      <td>0.000000</td>\n",
       "      <td>0.000000</td>\n",
       "      <td>0.000000</td>\n",
       "      <td>0.000000</td>\n",
       "      <td>0.000000</td>\n",
       "      <td>0.000000</td>\n",
       "      <td>0.000000</td>\n",
       "      <td>0.000000</td>\n",
       "      <td>0.000000</td>\n",
       "    </tr>\n",
       "    <tr>\n",
       "      <th>25%</th>\n",
       "      <td>85.000000</td>\n",
       "      <td>8.000000</td>\n",
       "      <td>1.000000</td>\n",
       "      <td>0.000000</td>\n",
       "      <td>13592.000000</td>\n",
       "      <td>13349.000000</td>\n",
       "      <td>0.000000</td>\n",
       "      <td>29153.000000</td>\n",
       "      <td>0.000000</td>\n",
       "      <td>317.186821</td>\n",
       "      <td>...</td>\n",
       "      <td>0.000000</td>\n",
       "      <td>208.842501</td>\n",
       "      <td>64.523103</td>\n",
       "      <td>0.000000</td>\n",
       "      <td>371.021722</td>\n",
       "      <td>99.785106</td>\n",
       "      <td>647.831229</td>\n",
       "      <td>0.000000</td>\n",
       "      <td>0.000000</td>\n",
       "      <td>0.000000</td>\n",
       "    </tr>\n",
       "    <tr>\n",
       "      <th>50%</th>\n",
       "      <td>144.000000</td>\n",
       "      <td>14.000000</td>\n",
       "      <td>3.000000</td>\n",
       "      <td>0.012545</td>\n",
       "      <td>26766.000000</td>\n",
       "      <td>26024.000000</td>\n",
       "      <td>0.000000</td>\n",
       "      <td>55383.000000</td>\n",
       "      <td>0.000000</td>\n",
       "      <td>665.664994</td>\n",
       "      <td>...</td>\n",
       "      <td>0.000000</td>\n",
       "      <td>420.944115</td>\n",
       "      <td>225.356663</td>\n",
       "      <td>176.762553</td>\n",
       "      <td>1021.500173</td>\n",
       "      <td>230.940356</td>\n",
       "      <td>1323.708647</td>\n",
       "      <td>0.000000</td>\n",
       "      <td>0.000000</td>\n",
       "      <td>0.000000</td>\n",
       "    </tr>\n",
       "    <tr>\n",
       "      <th>75%</th>\n",
       "      <td>223.000000</td>\n",
       "      <td>22.000000</td>\n",
       "      <td>5.000000</td>\n",
       "      <td>0.103448</td>\n",
       "      <td>49367.000000</td>\n",
       "      <td>47442.000000</td>\n",
       "      <td>0.000000</td>\n",
       "      <td>99503.000000</td>\n",
       "      <td>0.000000</td>\n",
       "      <td>1239.943094</td>\n",
       "      <td>...</td>\n",
       "      <td>0.000000</td>\n",
       "      <td>896.266319</td>\n",
       "      <td>520.468193</td>\n",
       "      <td>518.401680</td>\n",
       "      <td>2139.957530</td>\n",
       "      <td>505.894425</td>\n",
       "      <td>2302.040781</td>\n",
       "      <td>0.000000</td>\n",
       "      <td>0.000000</td>\n",
       "      <td>0.000000</td>\n",
       "    </tr>\n",
       "    <tr>\n",
       "      <th>max</th>\n",
       "      <td>1352.000000</td>\n",
       "      <td>71.000000</td>\n",
       "      <td>30.000000</td>\n",
       "      <td>1.000000</td>\n",
       "      <td>331555.000000</td>\n",
       "      <td>302395.000000</td>\n",
       "      <td>25370.000000</td>\n",
       "      <td>591999.000000</td>\n",
       "      <td>7207.000000</td>\n",
       "      <td>9107.258435</td>\n",
       "      <td>...</td>\n",
       "      <td>2208.069091</td>\n",
       "      <td>7410.301704</td>\n",
       "      <td>3769.224471</td>\n",
       "      <td>6088.583777</td>\n",
       "      <td>10363.294340</td>\n",
       "      <td>6638.392712</td>\n",
       "      <td>14694.249580</td>\n",
       "      <td>1544.931129</td>\n",
       "      <td>3288.755996</td>\n",
       "      <td>1.000000</td>\n",
       "    </tr>\n",
       "  </tbody>\n",
       "</table>\n",
       "<p>8 rows × 21 columns</p>\n",
       "</div>"
      ],
      "text/plain": [
       "       Contact_Diversity  Contact_Area_Diversity  Visiting_Area_Diversity  \\\n",
       "count        2517.000000             2517.000000              2517.000000   \n",
       "mean          174.009138               16.188717                 3.763210   \n",
       "std           133.935185               11.248483                 3.624181   \n",
       "min             1.000000                1.000000                 1.000000   \n",
       "25%            85.000000                8.000000                 1.000000   \n",
       "50%           144.000000               14.000000                 3.000000   \n",
       "75%           223.000000               22.000000                 5.000000   \n",
       "max          1352.000000               71.000000                30.000000   \n",
       "\n",
       "        Roam_Ratio  Calling_Duration  Called_Duration  Transfered_Duration  \\\n",
       "count  2517.000000       2517.000000      2517.000000          2517.000000   \n",
       "mean      0.149669      37211.470401     35655.112435            96.596345   \n",
       "std       0.289642      35362.505943     32903.018563           853.054931   \n",
       "min       0.000000          0.000000         0.000000             0.000000   \n",
       "25%       0.000000      13592.000000     13349.000000             0.000000   \n",
       "50%       0.012545      26766.000000     26024.000000             0.000000   \n",
       "75%       0.103448      49367.000000     47442.000000             0.000000   \n",
       "max       1.000000     331555.000000    302395.000000         25370.000000   \n",
       "\n",
       "       Domestic_Duration  International_Duration      T1_Flux     ...       \\\n",
       "count        2517.000000             2517.000000  2517.000000     ...        \n",
       "mean        72948.368296               14.810886   927.551103     ...        \n",
       "std         64390.642363              224.903620   963.544389     ...        \n",
       "min            14.000000                0.000000     0.000000     ...        \n",
       "25%         29153.000000                0.000000   317.186821     ...        \n",
       "50%         55383.000000                0.000000   665.664994     ...        \n",
       "75%         99503.000000                0.000000  1239.943094     ...        \n",
       "max        591999.000000             7207.000000  9107.258435     ...        \n",
       "\n",
       "           T3_Flux      T4_Flux      T5_Flux      T6_Flux       T7_Flux  \\\n",
       "count  2517.000000  2517.000000  2517.000000  2517.000000   2517.000000   \n",
       "mean     12.063846   741.379964   380.111372   372.998694   1456.009189   \n",
       "std     101.033679   904.425268   472.564509   565.718830   1443.192185   \n",
       "min       0.000000     0.000000     0.000000     0.000000      0.000000   \n",
       "25%       0.000000   208.842501    64.523103     0.000000    371.021722   \n",
       "50%       0.000000   420.944115   225.356663   176.762553   1021.500173   \n",
       "75%       0.000000   896.266319   520.468193   518.401680   2139.957530   \n",
       "max    2208.069091  7410.301704  3769.224471  6088.583777  10363.294340   \n",
       "\n",
       "           T8_Flux       T9_Flux     T10_Flux     T11_Flux     Response  \n",
       "count  2517.000000   2517.000000  2517.000000  2517.000000  2517.000000  \n",
       "mean    411.254898   1831.773772    21.415748     7.294859     0.029797  \n",
       "std     574.328404   1788.111242   100.710655    87.786558     0.170062  \n",
       "min       0.000000      0.000000     0.000000     0.000000     0.000000  \n",
       "25%      99.785106    647.831229     0.000000     0.000000     0.000000  \n",
       "50%     230.940356   1323.708647     0.000000     0.000000     0.000000  \n",
       "75%     505.894425   2302.040781     0.000000     0.000000     0.000000  \n",
       "max    6638.392712  14694.249580  1544.931129  3288.755996     1.000000  \n",
       "\n",
       "[8 rows x 21 columns]"
      ]
     },
     "execution_count": 12,
     "metadata": {},
     "output_type": "execute_result"
    }
   ],
   "source": [
    "df1.describe()"
   ]
  },
  {
   "cell_type": "markdown",
   "metadata": {},
   "source": [
    "1.1 Plot Correlation map"
   ]
  },
  {
   "cell_type": "code",
   "execution_count": 13,
   "metadata": {
    "collapsed": true
   },
   "outputs": [],
   "source": [
    "def Correlation_Map (corr):\n",
    "    name = corr.columns.tolist()\n",
    "    fig, ax = plt.subplots()\n",
    "    heatmap = ax.pcolor(corr , cmap = plt.cm.Blues)\n",
    "    fig.set_size_inches(11,11)\n",
    "    ax.set_frame_on(False)\n",
    "    ax.set_yticks(np.arange(corr.shape[0]+0.5))\n",
    "    ax.set_xticks(np.arange(corr.shape[1]+0.5))\n",
    "    ax.invert_yaxis()\n",
    "    ax.xaxis.tick_top()\n",
    "    ax.set_xticklabels(name)\n",
    "    ax.set_yticklabels(corr.index)\n",
    "    plt.xticks(rotation=90)\n",
    "    ax.grid(False)\n",
    "    ax = plt.gca()\n",
    "    for t in ax.xaxis.get_major_ticks():\n",
    "        t.tick1On = False\n",
    "        t.tick2On = False\n",
    "    for t in ax.yaxis.get_major_ticks():\n",
    "        t.tick1On = False\n",
    "        t.tick2On = False\n",
    "    plt.colorbar(heatmap)\n",
    "    plt.show()"
   ]
  },
  {
   "cell_type": "code",
   "execution_count": 39,
   "metadata": {
    "scrolled": true
   },
   "outputs": [
    {
     "data": {
      "text/html": [
       "<div>\n",
       "<style>\n",
       "    .dataframe thead tr:only-child th {\n",
       "        text-align: right;\n",
       "    }\n",
       "\n",
       "    .dataframe thead th {\n",
       "        text-align: left;\n",
       "    }\n",
       "\n",
       "    .dataframe tbody tr th {\n",
       "        vertical-align: top;\n",
       "    }\n",
       "</style>\n",
       "<table border=\"1\" class=\"dataframe\">\n",
       "  <thead>\n",
       "    <tr style=\"text-align: right;\">\n",
       "      <th></th>\n",
       "      <th>Phone</th>\n",
       "      <th>Contact_Diversity</th>\n",
       "      <th>Contact_Area_Diversity</th>\n",
       "      <th>Visiting_Area_Diversity</th>\n",
       "      <th>Roam_Ratio</th>\n",
       "      <th>Calling_Duration</th>\n",
       "      <th>Called_Duration</th>\n",
       "      <th>Transfered_Duration</th>\n",
       "      <th>Domestic_Duration</th>\n",
       "      <th>International_Duration</th>\n",
       "      <th>...</th>\n",
       "      <th>T3_Flux</th>\n",
       "      <th>T4_Flux</th>\n",
       "      <th>T5_Flux</th>\n",
       "      <th>T6_Flux</th>\n",
       "      <th>T7_Flux</th>\n",
       "      <th>T8_Flux</th>\n",
       "      <th>T9_Flux</th>\n",
       "      <th>T10_Flux</th>\n",
       "      <th>T11_Flux</th>\n",
       "      <th>Response</th>\n",
       "    </tr>\n",
       "  </thead>\n",
       "  <tbody>\n",
       "    <tr>\n",
       "      <th>Phone</th>\n",
       "      <td>1.000000</td>\n",
       "      <td>-0.033784</td>\n",
       "      <td>-0.032243</td>\n",
       "      <td>0.010621</td>\n",
       "      <td>0.031745</td>\n",
       "      <td>0.014265</td>\n",
       "      <td>0.002952</td>\n",
       "      <td>0.014810</td>\n",
       "      <td>0.009500</td>\n",
       "      <td>0.011150</td>\n",
       "      <td>...</td>\n",
       "      <td>0.035636</td>\n",
       "      <td>0.034205</td>\n",
       "      <td>0.029909</td>\n",
       "      <td>0.044581</td>\n",
       "      <td>0.063400</td>\n",
       "      <td>0.036939</td>\n",
       "      <td>0.093214</td>\n",
       "      <td>0.035524</td>\n",
       "      <td>-0.005952</td>\n",
       "      <td>0.010570</td>\n",
       "    </tr>\n",
       "    <tr>\n",
       "      <th>Contact_Diversity</th>\n",
       "      <td>-0.033784</td>\n",
       "      <td>1.000000</td>\n",
       "      <td>0.570803</td>\n",
       "      <td>0.159775</td>\n",
       "      <td>-0.110995</td>\n",
       "      <td>0.584175</td>\n",
       "      <td>0.663100</td>\n",
       "      <td>0.077238</td>\n",
       "      <td>0.660704</td>\n",
       "      <td>-0.006107</td>\n",
       "      <td>...</td>\n",
       "      <td>-0.029670</td>\n",
       "      <td>0.094553</td>\n",
       "      <td>0.140876</td>\n",
       "      <td>0.190634</td>\n",
       "      <td>0.156338</td>\n",
       "      <td>0.086496</td>\n",
       "      <td>0.108262</td>\n",
       "      <td>0.012845</td>\n",
       "      <td>0.031109</td>\n",
       "      <td>-0.023656</td>\n",
       "    </tr>\n",
       "    <tr>\n",
       "      <th>Contact_Area_Diversity</th>\n",
       "      <td>-0.032243</td>\n",
       "      <td>0.570803</td>\n",
       "      <td>1.000000</td>\n",
       "      <td>0.283941</td>\n",
       "      <td>0.129282</td>\n",
       "      <td>0.385166</td>\n",
       "      <td>0.427366</td>\n",
       "      <td>0.029009</td>\n",
       "      <td>0.430174</td>\n",
       "      <td>0.034139</td>\n",
       "      <td>...</td>\n",
       "      <td>-0.037313</td>\n",
       "      <td>0.098527</td>\n",
       "      <td>0.102005</td>\n",
       "      <td>0.207228</td>\n",
       "      <td>0.162451</td>\n",
       "      <td>0.092351</td>\n",
       "      <td>0.079542</td>\n",
       "      <td>0.042391</td>\n",
       "      <td>0.010249</td>\n",
       "      <td>0.008695</td>\n",
       "    </tr>\n",
       "    <tr>\n",
       "      <th>Visiting_Area_Diversity</th>\n",
       "      <td>0.010621</td>\n",
       "      <td>0.159775</td>\n",
       "      <td>0.283941</td>\n",
       "      <td>1.000000</td>\n",
       "      <td>0.236774</td>\n",
       "      <td>0.287585</td>\n",
       "      <td>0.265699</td>\n",
       "      <td>0.038770</td>\n",
       "      <td>0.293847</td>\n",
       "      <td>0.107191</td>\n",
       "      <td>...</td>\n",
       "      <td>-0.014347</td>\n",
       "      <td>0.025661</td>\n",
       "      <td>0.034400</td>\n",
       "      <td>0.046131</td>\n",
       "      <td>0.035112</td>\n",
       "      <td>0.031500</td>\n",
       "      <td>-0.012709</td>\n",
       "      <td>0.029969</td>\n",
       "      <td>0.065601</td>\n",
       "      <td>-0.054969</td>\n",
       "    </tr>\n",
       "    <tr>\n",
       "      <th>Roam_Ratio</th>\n",
       "      <td>0.031745</td>\n",
       "      <td>-0.110995</td>\n",
       "      <td>0.129282</td>\n",
       "      <td>0.236774</td>\n",
       "      <td>1.000000</td>\n",
       "      <td>-0.023993</td>\n",
       "      <td>-0.037837</td>\n",
       "      <td>0.041007</td>\n",
       "      <td>-0.032045</td>\n",
       "      <td>0.022016</td>\n",
       "      <td>...</td>\n",
       "      <td>-0.023092</td>\n",
       "      <td>-0.104103</td>\n",
       "      <td>-0.044603</td>\n",
       "      <td>-0.030688</td>\n",
       "      <td>-0.056730</td>\n",
       "      <td>-0.060724</td>\n",
       "      <td>-0.136619</td>\n",
       "      <td>0.011601</td>\n",
       "      <td>-0.008089</td>\n",
       "      <td>0.013064</td>\n",
       "    </tr>\n",
       "    <tr>\n",
       "      <th>Calling_Duration</th>\n",
       "      <td>0.014265</td>\n",
       "      <td>0.584175</td>\n",
       "      <td>0.385166</td>\n",
       "      <td>0.287585</td>\n",
       "      <td>-0.023993</td>\n",
       "      <td>1.000000</td>\n",
       "      <td>0.775617</td>\n",
       "      <td>0.079067</td>\n",
       "      <td>0.946314</td>\n",
       "      <td>0.072764</td>\n",
       "      <td>...</td>\n",
       "      <td>-0.007110</td>\n",
       "      <td>0.094755</td>\n",
       "      <td>0.131425</td>\n",
       "      <td>0.133387</td>\n",
       "      <td>0.114249</td>\n",
       "      <td>0.081354</td>\n",
       "      <td>0.103427</td>\n",
       "      <td>0.014788</td>\n",
       "      <td>0.016837</td>\n",
       "      <td>-0.019459</td>\n",
       "    </tr>\n",
       "    <tr>\n",
       "      <th>Called_Duration</th>\n",
       "      <td>0.002952</td>\n",
       "      <td>0.663100</td>\n",
       "      <td>0.427366</td>\n",
       "      <td>0.265699</td>\n",
       "      <td>-0.037837</td>\n",
       "      <td>0.775617</td>\n",
       "      <td>1.000000</td>\n",
       "      <td>0.074590</td>\n",
       "      <td>0.937831</td>\n",
       "      <td>0.030699</td>\n",
       "      <td>...</td>\n",
       "      <td>-0.017562</td>\n",
       "      <td>0.092439</td>\n",
       "      <td>0.109787</td>\n",
       "      <td>0.144568</td>\n",
       "      <td>0.120585</td>\n",
       "      <td>0.083215</td>\n",
       "      <td>0.097839</td>\n",
       "      <td>0.004759</td>\n",
       "      <td>0.011746</td>\n",
       "      <td>-0.008788</td>\n",
       "    </tr>\n",
       "    <tr>\n",
       "      <th>Transfered_Duration</th>\n",
       "      <td>0.014810</td>\n",
       "      <td>0.077238</td>\n",
       "      <td>0.029009</td>\n",
       "      <td>0.038770</td>\n",
       "      <td>0.041007</td>\n",
       "      <td>0.079067</td>\n",
       "      <td>0.074590</td>\n",
       "      <td>1.000000</td>\n",
       "      <td>0.094809</td>\n",
       "      <td>-0.006738</td>\n",
       "      <td>...</td>\n",
       "      <td>0.000045</td>\n",
       "      <td>-0.008442</td>\n",
       "      <td>0.001075</td>\n",
       "      <td>-0.008533</td>\n",
       "      <td>-0.005716</td>\n",
       "      <td>-0.022551</td>\n",
       "      <td>-0.005768</td>\n",
       "      <td>0.019446</td>\n",
       "      <td>-0.007306</td>\n",
       "      <td>-0.008207</td>\n",
       "    </tr>\n",
       "    <tr>\n",
       "      <th>Domestic_Duration</th>\n",
       "      <td>0.009500</td>\n",
       "      <td>0.660704</td>\n",
       "      <td>0.430174</td>\n",
       "      <td>0.293847</td>\n",
       "      <td>-0.032045</td>\n",
       "      <td>0.946314</td>\n",
       "      <td>0.937831</td>\n",
       "      <td>0.094809</td>\n",
       "      <td>1.000000</td>\n",
       "      <td>0.052066</td>\n",
       "      <td>...</td>\n",
       "      <td>-0.012851</td>\n",
       "      <td>0.099133</td>\n",
       "      <td>0.128299</td>\n",
       "      <td>0.147042</td>\n",
       "      <td>0.124213</td>\n",
       "      <td>0.086851</td>\n",
       "      <td>0.106692</td>\n",
       "      <td>0.010800</td>\n",
       "      <td>0.015171</td>\n",
       "      <td>-0.015364</td>\n",
       "    </tr>\n",
       "    <tr>\n",
       "      <th>International_Duration</th>\n",
       "      <td>0.011150</td>\n",
       "      <td>-0.006107</td>\n",
       "      <td>0.034139</td>\n",
       "      <td>0.107191</td>\n",
       "      <td>0.022016</td>\n",
       "      <td>0.072764</td>\n",
       "      <td>0.030699</td>\n",
       "      <td>-0.006738</td>\n",
       "      <td>0.052066</td>\n",
       "      <td>1.000000</td>\n",
       "      <td>...</td>\n",
       "      <td>-0.007752</td>\n",
       "      <td>0.008060</td>\n",
       "      <td>-0.002131</td>\n",
       "      <td>-0.008150</td>\n",
       "      <td>0.021054</td>\n",
       "      <td>0.014712</td>\n",
       "      <td>0.007815</td>\n",
       "      <td>0.003181</td>\n",
       "      <td>-0.005470</td>\n",
       "      <td>0.022406</td>\n",
       "    </tr>\n",
       "    <tr>\n",
       "      <th>T1_Flux</th>\n",
       "      <td>0.062402</td>\n",
       "      <td>0.135395</td>\n",
       "      <td>0.142359</td>\n",
       "      <td>0.026392</td>\n",
       "      <td>-0.101235</td>\n",
       "      <td>0.107766</td>\n",
       "      <td>0.103030</td>\n",
       "      <td>-0.001905</td>\n",
       "      <td>0.111757</td>\n",
       "      <td>0.014119</td>\n",
       "      <td>...</td>\n",
       "      <td>0.085389</td>\n",
       "      <td>0.599266</td>\n",
       "      <td>0.510716</td>\n",
       "      <td>0.404404</td>\n",
       "      <td>0.589572</td>\n",
       "      <td>0.473002</td>\n",
       "      <td>0.625215</td>\n",
       "      <td>0.118993</td>\n",
       "      <td>0.105431</td>\n",
       "      <td>-0.013089</td>\n",
       "    </tr>\n",
       "    <tr>\n",
       "      <th>T2_Flux</th>\n",
       "      <td>0.059150</td>\n",
       "      <td>0.146229</td>\n",
       "      <td>0.134042</td>\n",
       "      <td>0.061663</td>\n",
       "      <td>-0.087168</td>\n",
       "      <td>0.103491</td>\n",
       "      <td>0.102044</td>\n",
       "      <td>0.000141</td>\n",
       "      <td>0.108963</td>\n",
       "      <td>0.005327</td>\n",
       "      <td>...</td>\n",
       "      <td>0.049293</td>\n",
       "      <td>0.493368</td>\n",
       "      <td>0.460659</td>\n",
       "      <td>0.443925</td>\n",
       "      <td>0.486297</td>\n",
       "      <td>0.349368</td>\n",
       "      <td>0.577587</td>\n",
       "      <td>0.115576</td>\n",
       "      <td>0.077654</td>\n",
       "      <td>-0.013041</td>\n",
       "    </tr>\n",
       "    <tr>\n",
       "      <th>T3_Flux</th>\n",
       "      <td>0.035636</td>\n",
       "      <td>-0.029670</td>\n",
       "      <td>-0.037313</td>\n",
       "      <td>-0.014347</td>\n",
       "      <td>-0.023092</td>\n",
       "      <td>-0.007110</td>\n",
       "      <td>-0.017562</td>\n",
       "      <td>0.000045</td>\n",
       "      <td>-0.012851</td>\n",
       "      <td>-0.007752</td>\n",
       "      <td>...</td>\n",
       "      <td>1.000000</td>\n",
       "      <td>0.075967</td>\n",
       "      <td>0.022626</td>\n",
       "      <td>0.023724</td>\n",
       "      <td>0.063525</td>\n",
       "      <td>0.094114</td>\n",
       "      <td>0.124978</td>\n",
       "      <td>0.078666</td>\n",
       "      <td>0.007963</td>\n",
       "      <td>-0.020930</td>\n",
       "    </tr>\n",
       "    <tr>\n",
       "      <th>T4_Flux</th>\n",
       "      <td>0.034205</td>\n",
       "      <td>0.094553</td>\n",
       "      <td>0.098527</td>\n",
       "      <td>0.025661</td>\n",
       "      <td>-0.104103</td>\n",
       "      <td>0.094755</td>\n",
       "      <td>0.092439</td>\n",
       "      <td>-0.008442</td>\n",
       "      <td>0.099133</td>\n",
       "      <td>0.008060</td>\n",
       "      <td>...</td>\n",
       "      <td>0.075967</td>\n",
       "      <td>1.000000</td>\n",
       "      <td>0.437019</td>\n",
       "      <td>0.315772</td>\n",
       "      <td>0.557350</td>\n",
       "      <td>0.543181</td>\n",
       "      <td>0.691728</td>\n",
       "      <td>0.112503</td>\n",
       "      <td>0.125464</td>\n",
       "      <td>-0.009105</td>\n",
       "    </tr>\n",
       "    <tr>\n",
       "      <th>T5_Flux</th>\n",
       "      <td>0.029909</td>\n",
       "      <td>0.140876</td>\n",
       "      <td>0.102005</td>\n",
       "      <td>0.034400</td>\n",
       "      <td>-0.044603</td>\n",
       "      <td>0.131425</td>\n",
       "      <td>0.109787</td>\n",
       "      <td>0.001075</td>\n",
       "      <td>0.128299</td>\n",
       "      <td>-0.002131</td>\n",
       "      <td>...</td>\n",
       "      <td>0.022626</td>\n",
       "      <td>0.437019</td>\n",
       "      <td>1.000000</td>\n",
       "      <td>0.353466</td>\n",
       "      <td>0.504484</td>\n",
       "      <td>0.404447</td>\n",
       "      <td>0.518374</td>\n",
       "      <td>0.077876</td>\n",
       "      <td>0.123536</td>\n",
       "      <td>0.038064</td>\n",
       "    </tr>\n",
       "    <tr>\n",
       "      <th>T6_Flux</th>\n",
       "      <td>0.044581</td>\n",
       "      <td>0.190634</td>\n",
       "      <td>0.207228</td>\n",
       "      <td>0.046131</td>\n",
       "      <td>-0.030688</td>\n",
       "      <td>0.133387</td>\n",
       "      <td>0.144568</td>\n",
       "      <td>-0.008533</td>\n",
       "      <td>0.147042</td>\n",
       "      <td>-0.008150</td>\n",
       "      <td>...</td>\n",
       "      <td>0.023724</td>\n",
       "      <td>0.315772</td>\n",
       "      <td>0.353466</td>\n",
       "      <td>1.000000</td>\n",
       "      <td>0.467278</td>\n",
       "      <td>0.278828</td>\n",
       "      <td>0.360374</td>\n",
       "      <td>0.065372</td>\n",
       "      <td>0.082506</td>\n",
       "      <td>0.024871</td>\n",
       "    </tr>\n",
       "    <tr>\n",
       "      <th>T7_Flux</th>\n",
       "      <td>0.063400</td>\n",
       "      <td>0.156338</td>\n",
       "      <td>0.162451</td>\n",
       "      <td>0.035112</td>\n",
       "      <td>-0.056730</td>\n",
       "      <td>0.114249</td>\n",
       "      <td>0.120585</td>\n",
       "      <td>-0.005716</td>\n",
       "      <td>0.124213</td>\n",
       "      <td>0.021054</td>\n",
       "      <td>...</td>\n",
       "      <td>0.063525</td>\n",
       "      <td>0.557350</td>\n",
       "      <td>0.504484</td>\n",
       "      <td>0.467278</td>\n",
       "      <td>1.000000</td>\n",
       "      <td>0.502937</td>\n",
       "      <td>0.607557</td>\n",
       "      <td>0.118006</td>\n",
       "      <td>0.084859</td>\n",
       "      <td>0.040914</td>\n",
       "    </tr>\n",
       "    <tr>\n",
       "      <th>T8_Flux</th>\n",
       "      <td>0.036939</td>\n",
       "      <td>0.086496</td>\n",
       "      <td>0.092351</td>\n",
       "      <td>0.031500</td>\n",
       "      <td>-0.060724</td>\n",
       "      <td>0.081354</td>\n",
       "      <td>0.083215</td>\n",
       "      <td>-0.022551</td>\n",
       "      <td>0.086851</td>\n",
       "      <td>0.014712</td>\n",
       "      <td>...</td>\n",
       "      <td>0.094114</td>\n",
       "      <td>0.543181</td>\n",
       "      <td>0.404447</td>\n",
       "      <td>0.278828</td>\n",
       "      <td>0.502937</td>\n",
       "      <td>1.000000</td>\n",
       "      <td>0.558485</td>\n",
       "      <td>0.108139</td>\n",
       "      <td>0.121258</td>\n",
       "      <td>-0.009639</td>\n",
       "    </tr>\n",
       "    <tr>\n",
       "      <th>T9_Flux</th>\n",
       "      <td>0.093214</td>\n",
       "      <td>0.108262</td>\n",
       "      <td>0.079542</td>\n",
       "      <td>-0.012709</td>\n",
       "      <td>-0.136619</td>\n",
       "      <td>0.103427</td>\n",
       "      <td>0.097839</td>\n",
       "      <td>-0.005768</td>\n",
       "      <td>0.106692</td>\n",
       "      <td>0.007815</td>\n",
       "      <td>...</td>\n",
       "      <td>0.124978</td>\n",
       "      <td>0.691728</td>\n",
       "      <td>0.518374</td>\n",
       "      <td>0.360374</td>\n",
       "      <td>0.607557</td>\n",
       "      <td>0.558485</td>\n",
       "      <td>1.000000</td>\n",
       "      <td>0.113985</td>\n",
       "      <td>0.082953</td>\n",
       "      <td>-0.000324</td>\n",
       "    </tr>\n",
       "    <tr>\n",
       "      <th>T10_Flux</th>\n",
       "      <td>0.035524</td>\n",
       "      <td>0.012845</td>\n",
       "      <td>0.042391</td>\n",
       "      <td>0.029969</td>\n",
       "      <td>0.011601</td>\n",
       "      <td>0.014788</td>\n",
       "      <td>0.004759</td>\n",
       "      <td>0.019446</td>\n",
       "      <td>0.010800</td>\n",
       "      <td>0.003181</td>\n",
       "      <td>...</td>\n",
       "      <td>0.078666</td>\n",
       "      <td>0.112503</td>\n",
       "      <td>0.077876</td>\n",
       "      <td>0.065372</td>\n",
       "      <td>0.118006</td>\n",
       "      <td>0.108139</td>\n",
       "      <td>0.113985</td>\n",
       "      <td>1.000000</td>\n",
       "      <td>-0.001564</td>\n",
       "      <td>0.028315</td>\n",
       "    </tr>\n",
       "    <tr>\n",
       "      <th>T11_Flux</th>\n",
       "      <td>-0.005952</td>\n",
       "      <td>0.031109</td>\n",
       "      <td>0.010249</td>\n",
       "      <td>0.065601</td>\n",
       "      <td>-0.008089</td>\n",
       "      <td>0.016837</td>\n",
       "      <td>0.011746</td>\n",
       "      <td>-0.007306</td>\n",
       "      <td>0.015171</td>\n",
       "      <td>-0.005470</td>\n",
       "      <td>...</td>\n",
       "      <td>0.007963</td>\n",
       "      <td>0.125464</td>\n",
       "      <td>0.123536</td>\n",
       "      <td>0.082506</td>\n",
       "      <td>0.084859</td>\n",
       "      <td>0.121258</td>\n",
       "      <td>0.082953</td>\n",
       "      <td>-0.001564</td>\n",
       "      <td>1.000000</td>\n",
       "      <td>-0.009354</td>\n",
       "    </tr>\n",
       "    <tr>\n",
       "      <th>Response</th>\n",
       "      <td>0.010570</td>\n",
       "      <td>-0.023656</td>\n",
       "      <td>0.008695</td>\n",
       "      <td>-0.054969</td>\n",
       "      <td>0.013064</td>\n",
       "      <td>-0.019459</td>\n",
       "      <td>-0.008788</td>\n",
       "      <td>-0.008207</td>\n",
       "      <td>-0.015364</td>\n",
       "      <td>0.022406</td>\n",
       "      <td>...</td>\n",
       "      <td>-0.020930</td>\n",
       "      <td>-0.009105</td>\n",
       "      <td>0.038064</td>\n",
       "      <td>0.024871</td>\n",
       "      <td>0.040914</td>\n",
       "      <td>-0.009639</td>\n",
       "      <td>-0.000324</td>\n",
       "      <td>0.028315</td>\n",
       "      <td>-0.009354</td>\n",
       "      <td>1.000000</td>\n",
       "    </tr>\n",
       "  </tbody>\n",
       "</table>\n",
       "<p>22 rows × 22 columns</p>\n",
       "</div>"
      ],
      "text/plain": [
       "                            Phone  Contact_Diversity  Contact_Area_Diversity  \\\n",
       "Phone                    1.000000          -0.033784               -0.032243   \n",
       "Contact_Diversity       -0.033784           1.000000                0.570803   \n",
       "Contact_Area_Diversity  -0.032243           0.570803                1.000000   \n",
       "Visiting_Area_Diversity  0.010621           0.159775                0.283941   \n",
       "Roam_Ratio               0.031745          -0.110995                0.129282   \n",
       "Calling_Duration         0.014265           0.584175                0.385166   \n",
       "Called_Duration          0.002952           0.663100                0.427366   \n",
       "Transfered_Duration      0.014810           0.077238                0.029009   \n",
       "Domestic_Duration        0.009500           0.660704                0.430174   \n",
       "International_Duration   0.011150          -0.006107                0.034139   \n",
       "T1_Flux                  0.062402           0.135395                0.142359   \n",
       "T2_Flux                  0.059150           0.146229                0.134042   \n",
       "T3_Flux                  0.035636          -0.029670               -0.037313   \n",
       "T4_Flux                  0.034205           0.094553                0.098527   \n",
       "T5_Flux                  0.029909           0.140876                0.102005   \n",
       "T6_Flux                  0.044581           0.190634                0.207228   \n",
       "T7_Flux                  0.063400           0.156338                0.162451   \n",
       "T8_Flux                  0.036939           0.086496                0.092351   \n",
       "T9_Flux                  0.093214           0.108262                0.079542   \n",
       "T10_Flux                 0.035524           0.012845                0.042391   \n",
       "T11_Flux                -0.005952           0.031109                0.010249   \n",
       "Response                 0.010570          -0.023656                0.008695   \n",
       "\n",
       "                         Visiting_Area_Diversity  Roam_Ratio  \\\n",
       "Phone                                   0.010621    0.031745   \n",
       "Contact_Diversity                       0.159775   -0.110995   \n",
       "Contact_Area_Diversity                  0.283941    0.129282   \n",
       "Visiting_Area_Diversity                 1.000000    0.236774   \n",
       "Roam_Ratio                              0.236774    1.000000   \n",
       "Calling_Duration                        0.287585   -0.023993   \n",
       "Called_Duration                         0.265699   -0.037837   \n",
       "Transfered_Duration                     0.038770    0.041007   \n",
       "Domestic_Duration                       0.293847   -0.032045   \n",
       "International_Duration                  0.107191    0.022016   \n",
       "T1_Flux                                 0.026392   -0.101235   \n",
       "T2_Flux                                 0.061663   -0.087168   \n",
       "T3_Flux                                -0.014347   -0.023092   \n",
       "T4_Flux                                 0.025661   -0.104103   \n",
       "T5_Flux                                 0.034400   -0.044603   \n",
       "T6_Flux                                 0.046131   -0.030688   \n",
       "T7_Flux                                 0.035112   -0.056730   \n",
       "T8_Flux                                 0.031500   -0.060724   \n",
       "T9_Flux                                -0.012709   -0.136619   \n",
       "T10_Flux                                0.029969    0.011601   \n",
       "T11_Flux                                0.065601   -0.008089   \n",
       "Response                               -0.054969    0.013064   \n",
       "\n",
       "                         Calling_Duration  Called_Duration  \\\n",
       "Phone                            0.014265         0.002952   \n",
       "Contact_Diversity                0.584175         0.663100   \n",
       "Contact_Area_Diversity           0.385166         0.427366   \n",
       "Visiting_Area_Diversity          0.287585         0.265699   \n",
       "Roam_Ratio                      -0.023993        -0.037837   \n",
       "Calling_Duration                 1.000000         0.775617   \n",
       "Called_Duration                  0.775617         1.000000   \n",
       "Transfered_Duration              0.079067         0.074590   \n",
       "Domestic_Duration                0.946314         0.937831   \n",
       "International_Duration           0.072764         0.030699   \n",
       "T1_Flux                          0.107766         0.103030   \n",
       "T2_Flux                          0.103491         0.102044   \n",
       "T3_Flux                         -0.007110        -0.017562   \n",
       "T4_Flux                          0.094755         0.092439   \n",
       "T5_Flux                          0.131425         0.109787   \n",
       "T6_Flux                          0.133387         0.144568   \n",
       "T7_Flux                          0.114249         0.120585   \n",
       "T8_Flux                          0.081354         0.083215   \n",
       "T9_Flux                          0.103427         0.097839   \n",
       "T10_Flux                         0.014788         0.004759   \n",
       "T11_Flux                         0.016837         0.011746   \n",
       "Response                        -0.019459        -0.008788   \n",
       "\n",
       "                         Transfered_Duration  Domestic_Duration  \\\n",
       "Phone                               0.014810           0.009500   \n",
       "Contact_Diversity                   0.077238           0.660704   \n",
       "Contact_Area_Diversity              0.029009           0.430174   \n",
       "Visiting_Area_Diversity             0.038770           0.293847   \n",
       "Roam_Ratio                          0.041007          -0.032045   \n",
       "Calling_Duration                    0.079067           0.946314   \n",
       "Called_Duration                     0.074590           0.937831   \n",
       "Transfered_Duration                 1.000000           0.094809   \n",
       "Domestic_Duration                   0.094809           1.000000   \n",
       "International_Duration             -0.006738           0.052066   \n",
       "T1_Flux                            -0.001905           0.111757   \n",
       "T2_Flux                             0.000141           0.108963   \n",
       "T3_Flux                             0.000045          -0.012851   \n",
       "T4_Flux                            -0.008442           0.099133   \n",
       "T5_Flux                             0.001075           0.128299   \n",
       "T6_Flux                            -0.008533           0.147042   \n",
       "T7_Flux                            -0.005716           0.124213   \n",
       "T8_Flux                            -0.022551           0.086851   \n",
       "T9_Flux                            -0.005768           0.106692   \n",
       "T10_Flux                            0.019446           0.010800   \n",
       "T11_Flux                           -0.007306           0.015171   \n",
       "Response                           -0.008207          -0.015364   \n",
       "\n",
       "                         International_Duration    ...      T3_Flux   T4_Flux  \\\n",
       "Phone                                  0.011150    ...     0.035636  0.034205   \n",
       "Contact_Diversity                     -0.006107    ...    -0.029670  0.094553   \n",
       "Contact_Area_Diversity                 0.034139    ...    -0.037313  0.098527   \n",
       "Visiting_Area_Diversity                0.107191    ...    -0.014347  0.025661   \n",
       "Roam_Ratio                             0.022016    ...    -0.023092 -0.104103   \n",
       "Calling_Duration                       0.072764    ...    -0.007110  0.094755   \n",
       "Called_Duration                        0.030699    ...    -0.017562  0.092439   \n",
       "Transfered_Duration                   -0.006738    ...     0.000045 -0.008442   \n",
       "Domestic_Duration                      0.052066    ...    -0.012851  0.099133   \n",
       "International_Duration                 1.000000    ...    -0.007752  0.008060   \n",
       "T1_Flux                                0.014119    ...     0.085389  0.599266   \n",
       "T2_Flux                                0.005327    ...     0.049293  0.493368   \n",
       "T3_Flux                               -0.007752    ...     1.000000  0.075967   \n",
       "T4_Flux                                0.008060    ...     0.075967  1.000000   \n",
       "T5_Flux                               -0.002131    ...     0.022626  0.437019   \n",
       "T6_Flux                               -0.008150    ...     0.023724  0.315772   \n",
       "T7_Flux                                0.021054    ...     0.063525  0.557350   \n",
       "T8_Flux                                0.014712    ...     0.094114  0.543181   \n",
       "T9_Flux                                0.007815    ...     0.124978  0.691728   \n",
       "T10_Flux                               0.003181    ...     0.078666  0.112503   \n",
       "T11_Flux                              -0.005470    ...     0.007963  0.125464   \n",
       "Response                               0.022406    ...    -0.020930 -0.009105   \n",
       "\n",
       "                          T5_Flux   T6_Flux   T7_Flux   T8_Flux   T9_Flux  \\\n",
       "Phone                    0.029909  0.044581  0.063400  0.036939  0.093214   \n",
       "Contact_Diversity        0.140876  0.190634  0.156338  0.086496  0.108262   \n",
       "Contact_Area_Diversity   0.102005  0.207228  0.162451  0.092351  0.079542   \n",
       "Visiting_Area_Diversity  0.034400  0.046131  0.035112  0.031500 -0.012709   \n",
       "Roam_Ratio              -0.044603 -0.030688 -0.056730 -0.060724 -0.136619   \n",
       "Calling_Duration         0.131425  0.133387  0.114249  0.081354  0.103427   \n",
       "Called_Duration          0.109787  0.144568  0.120585  0.083215  0.097839   \n",
       "Transfered_Duration      0.001075 -0.008533 -0.005716 -0.022551 -0.005768   \n",
       "Domestic_Duration        0.128299  0.147042  0.124213  0.086851  0.106692   \n",
       "International_Duration  -0.002131 -0.008150  0.021054  0.014712  0.007815   \n",
       "T1_Flux                  0.510716  0.404404  0.589572  0.473002  0.625215   \n",
       "T2_Flux                  0.460659  0.443925  0.486297  0.349368  0.577587   \n",
       "T3_Flux                  0.022626  0.023724  0.063525  0.094114  0.124978   \n",
       "T4_Flux                  0.437019  0.315772  0.557350  0.543181  0.691728   \n",
       "T5_Flux                  1.000000  0.353466  0.504484  0.404447  0.518374   \n",
       "T6_Flux                  0.353466  1.000000  0.467278  0.278828  0.360374   \n",
       "T7_Flux                  0.504484  0.467278  1.000000  0.502937  0.607557   \n",
       "T8_Flux                  0.404447  0.278828  0.502937  1.000000  0.558485   \n",
       "T9_Flux                  0.518374  0.360374  0.607557  0.558485  1.000000   \n",
       "T10_Flux                 0.077876  0.065372  0.118006  0.108139  0.113985   \n",
       "T11_Flux                 0.123536  0.082506  0.084859  0.121258  0.082953   \n",
       "Response                 0.038064  0.024871  0.040914 -0.009639 -0.000324   \n",
       "\n",
       "                         T10_Flux  T11_Flux  Response  \n",
       "Phone                    0.035524 -0.005952  0.010570  \n",
       "Contact_Diversity        0.012845  0.031109 -0.023656  \n",
       "Contact_Area_Diversity   0.042391  0.010249  0.008695  \n",
       "Visiting_Area_Diversity  0.029969  0.065601 -0.054969  \n",
       "Roam_Ratio               0.011601 -0.008089  0.013064  \n",
       "Calling_Duration         0.014788  0.016837 -0.019459  \n",
       "Called_Duration          0.004759  0.011746 -0.008788  \n",
       "Transfered_Duration      0.019446 -0.007306 -0.008207  \n",
       "Domestic_Duration        0.010800  0.015171 -0.015364  \n",
       "International_Duration   0.003181 -0.005470  0.022406  \n",
       "T1_Flux                  0.118993  0.105431 -0.013089  \n",
       "T2_Flux                  0.115576  0.077654 -0.013041  \n",
       "T3_Flux                  0.078666  0.007963 -0.020930  \n",
       "T4_Flux                  0.112503  0.125464 -0.009105  \n",
       "T5_Flux                  0.077876  0.123536  0.038064  \n",
       "T6_Flux                  0.065372  0.082506  0.024871  \n",
       "T7_Flux                  0.118006  0.084859  0.040914  \n",
       "T8_Flux                  0.108139  0.121258 -0.009639  \n",
       "T9_Flux                  0.113985  0.082953 -0.000324  \n",
       "T10_Flux                 1.000000 -0.001564  0.028315  \n",
       "T11_Flux                -0.001564  1.000000 -0.009354  \n",
       "Response                 0.028315 -0.009354  1.000000  \n",
       "\n",
       "[22 rows x 22 columns]"
      ]
     },
     "execution_count": 39,
     "metadata": {},
     "output_type": "execute_result"
    }
   ],
   "source": [
    "df1.corr()"
   ]
  },
  {
   "cell_type": "code",
   "execution_count": 14,
   "metadata": {},
   "outputs": [
    {
     "data": {
      "image/png": "[encoded data removed]",
      "text/plain": [
       "<matplotlib.figure.Figure at 0x110d20f98>"
      ]
     },
     "metadata": {},
     "output_type": "display_data"
    }
   ],
   "source": [
    "Correlation_Map(df1.corr())"
   ]
  },
  {
   "cell_type": "code",
   "execution_count": 22,
   "metadata": {
    "collapsed": true
   },
   "outputs": [],
   "source": [
    "sns.set(style=\"white\")"
   ]
  },
  {
   "cell_type": "markdown",
   "metadata": {},
   "source": [
    "1.2 Label distribution in pie plot and histogram"
   ]
  },
  {
   "cell_type": "code",
   "execution_count": 15,
   "metadata": {},
   "outputs": [
    {
     "data": {
      "image/png": "[encoded data removed]",
      "text/plain": [
       "<matplotlib.figure.Figure at 0x1181b57f0>"
      ]
     },
     "metadata": {},
     "output_type": "display_data"
    }
   ],
   "source": [
    "f,ax=plt.subplots(1,2,figsize=(18,8))\n",
    "df1['Response'].value_counts().plot.pie(explode=[0,0.1],autopct='%1.1f%%',ax=ax[0],shadow=True)\n",
    "ax[0].set_title('Response')\n",
    "ax[0].set_ylabel('')\n",
    "sns.countplot('Response',data=df1,ax=ax[1])\n",
    "ax[1].set_title('Response')\n",
    "plt.show()"
   ]
  },
  {
   "cell_type": "code",
   "execution_count": 16,
   "metadata": {
    "collapsed": true
   },
   "outputs": [],
   "source": [
    "dff1=df1[df1['Response']==1]\n",
    "dff0=df1[df1['Response']==0]\n",
    "title = df1.columns.tolist()"
   ]
  },
  {
   "cell_type": "markdown",
   "metadata": {},
   "source": [
    "1.3 Feature distributions in bar plot"
   ]
  },
  {
   "cell_type": "code",
   "execution_count": 17,
   "metadata": {
    "collapsed": true
   },
   "outputs": [],
   "source": [
    "def box_plot(column):\n",
    "    data=[dff1.iloc[:,column],dff0.iloc[:,column]]\n",
    "    fig,ax=plt.subplots()\n",
    "    ax.boxplot(data, vert=False)\n",
    "    ax.set_yticklabels(['Defaults','Repayment'])\n",
    "    ax.set_title(title[column])\n",
    "    plt.show()"
   ]
  },
  {
   "cell_type": "code",
   "execution_count": 18,
   "metadata": {
    "scrolled": true
   },
   "outputs": [
    {
     "data": {
      "image/png": "[encoded data removed]",
      "text/plain": [
       "<matplotlib.figure.Figure at 0x1182d2fd0>"
      ]
     },
     "metadata": {},
     "output_type": "display_data"
    },
    {
     "data": {
      "image/png": "[encoded data removed]",
      "text/plain": [
       "<matplotlib.figure.Figure at 0x11832df98>"
      ]
     },
     "metadata": {},
     "output_type": "display_data"
    },
    {
     "data": {
      "image/png": "[encoded data removed]",
      "text/plain": [
       "<matplotlib.figure.Figure at 0x1183ceb00>"
      ]
     },
     "metadata": {},
     "output_type": "display_data"
    },
    {
     "data": {
      "image/png": "[encoded data removed]",
      "text/plain": [
       "<matplotlib.figure.Figure at 0x11847cac8>"
      ]
     },
     "metadata": {},
     "output_type": "display_data"
    },
    {
     "data": {
      "image/png": "[encoded data removed]",
      "text/plain": [
       "<matplotlib.figure.Figure at 0x118466710>"
      ]
     },
     "metadata": {},
     "output_type": "display_data"
    },
    {
     "data": {
      "image/png": "[encoded data removed]",
      "text/plain": [
       "<matplotlib.figure.Figure at 0x11872ffd0>"
      ]
     },
     "metadata": {},
     "output_type": "display_data"
    },
    {
     "data": {
      "image/png": "[encoded data removed]",
      "text/plain": [
       "<matplotlib.figure.Figure at 0x11815e9b0>"
      ]
     },
     "metadata": {},
     "output_type": "display_data"
    },
    {
     "data": {
      "image/png": "[encoded data removed]",
      "text/plain": [
       "<matplotlib.figure.Figure at 0x1185ca2e8>"
      ]
     },
     "metadata": {},
     "output_type": "display_data"
    },
    {
     "data": {
      "image/png": "[encoded data removed]",
      "text/plain": [
       "<matplotlib.figure.Figure at 0x11832ab70>"
      ]
     },
     "metadata": {},
     "output_type": "display_data"
    },
    {
     "data": {
      "image/png": "[encoded data removed]",
      "text/plain": [
       "<matplotlib.figure.Figure at 0x114235ef0>"
      ]
     },
     "metadata": {},
     "output_type": "display_data"
    },
    {
     "data": {
      "image/png": "[encoded data removed]",
      "text/plain": [
       "<matplotlib.figure.Figure at 0x118393d68>"
      ]
     },
     "metadata": {},
     "output_type": "display_data"
    },
    {
     "data": {
      "image/png": "[encoded data removed]",
      "text/plain": [
       "<matplotlib.figure.Figure at 0x118a52f28>"
      ]
     },
     "metadata": {},
     "output_type": "display_data"
    },
    {
     "data": {
      "image/png": "[encoded data removed]",
      "text/plain": [
       "<matplotlib.figure.Figure at 0x118a402e8>"
      ]
     },
     "metadata": {},
     "output_type": "display_data"
    },
    {
     "data": {
      "image/png": "[encoded data removed]",
      "text/plain": [
       "<matplotlib.figure.Figure at 0x11832af98>"
      ]
     },
     "metadata": {},
     "output_type": "display_data"
    },
    {
     "data": {
      "image/png": "[encoded data removed]",
      "text/plain": [
       "<matplotlib.figure.Figure at 0x118a4cda0>"
      ]
     },
     "metadata": {},
     "output_type": "display_data"
    },
    {
     "data": {
      "image/png": "[encoded data removed]",
      "text/plain": [
       "<matplotlib.figure.Figure at 0x114ac0cf8>"
      ]
     },
     "metadata": {},
     "output_type": "display_data"
    },
    {
     "data": {
      "image/png": "[encoded data removed]",
      "text/plain": [
       "<matplotlib.figure.Figure at 0x1183f4390>"
      ]
     },
     "metadata": {},
     "output_type": "display_data"
    },
    {
     "data": {
      "image/png": "[encoded data removed]",
      "text/plain": [
       "<matplotlib.figure.Figure at 0x1183dff28>"
      ]
     },
     "metadata": {},
     "output_type": "display_data"
    },
    {
     "data": {
      "image/png": "[encoded data removed]",
      "text/plain": [
       "<matplotlib.figure.Figure at 0x11873b7f0>"
      ]
     },
     "metadata": {},
     "output_type": "display_data"
    },
    {
     "data": {
      "image/png": "[encoded data removed]",
      "text/plain": [
       "<matplotlib.figure.Figure at 0x114ac27b8>"
      ]
     },
     "metadata": {},
     "output_type": "display_data"
    }
   ],
   "source": [
    "for i in range(len(df1.columns)-1):\n",
    "    box_plot(i)"
   ]
  },
  {
   "cell_type": "markdown",
   "metadata": {},
   "source": [
    "1.3 Feature distributions in violin plot"
   ]
  },
  {
   "cell_type": "code",
   "execution_count": 20,
   "metadata": {
    "collapsed": true
   },
   "outputs": [],
   "source": [
    "def violin_plot(column):\n",
    "    data=[dff1.iloc[:,column],dff0.iloc[:,column]]\n",
    "    fig,ax=plt.subplots()\n",
    "    ax.violinplot(data, [1,2], points=50, vert=False, widths=1.1,showextrema=True)\n",
    "    ax.set_yticklabels(['','','Defaults','','Repayment'])\n",
    "    ax.set_title(title[column])\n",
    "    plt.show()"
   ]
  },
  {
   "cell_type": "code",
   "execution_count": 23,
   "metadata": {
    "collapsed": true
   },
   "outputs": [
    {
     "data": {
      "image/png": "[encoded data removed]",
      "text/plain": [
       "<matplotlib.figure.Figure at 0x113b0f208>"
      ]
     },
     "metadata": {},
     "output_type": "display_data"
    },
    {
     "data": {
      "image/png": "[encoded data removed]",
      "text/plain": [
       "<matplotlib.figure.Figure at 0x113ab9358>"
      ]
     },
     "metadata": {},
     "output_type": "display_data"
    },
    {
     "data": {
      "image/png": "[encoded data removed]",
      "text/plain": [
       "<matplotlib.figure.Figure at 0x11815ea58>"
      ]
     },
     "metadata": {},
     "output_type": "display_data"
    },
    {
     "data": {
      "image/png": "[encoded data removed]",
      "text/plain": [
       "<matplotlib.figure.Figure at 0x118588470>"
      ]
     },
     "metadata": {},
     "output_type": "display_data"
    },
    {
     "data": {
      "image/png": "[encoded data removed]",
      "text/plain": [
       "<matplotlib.figure.Figure at 0x118320198>"
      ]
     },
     "metadata": {},
     "output_type": "display_data"
    },
    {
     "data": {
      "image/png": "[encoded data removed]",
      "text/plain": [
       "<matplotlib.figure.Figure at 0x1186cee80>"
      ]
     },
     "metadata": {},
     "output_type": "display_data"
    },
    {
     "data": {
      "image/png": "[encoded data removed]",
      "text/plain": [
       "<matplotlib.figure.Figure at 0x118317630>"
      ]
     },
     "metadata": {},
     "output_type": "display_data"
    },
    {
     "data": {
      "image/png": "[encoded data removed]",
      "text/plain": [
       "<matplotlib.figure.Figure at 0x11851bc18>"
      ]
     },
     "metadata": {},
     "output_type": "display_data"
    },
    {
     "data": {
      "image/png": "[encoded data removed]",
      "text/plain": [
       "<matplotlib.figure.Figure at 0x11868a9e8>"
      ]
     },
     "metadata": {},
     "output_type": "display_data"
    },
    {
     "data": {
      "image/png": "[encoded data removed]",
      "text/plain": [
       "<matplotlib.figure.Figure at 0x1186ce0b8>"
      ]
     },
     "metadata": {},
     "output_type": "display_data"
    },
    {
     "data": {
      "image/png": "[encoded data removed]",
      "text/plain": [
       "<matplotlib.figure.Figure at 0x1182bc7f0>"
      ]
     },
     "metadata": {},
     "output_type": "display_data"
    },
    {
     "data": {
      "image/png": "[encoded data removed]",
      "text/plain": [
       "<matplotlib.figure.Figure at 0x1186e0ba8>"
      ]
     },
     "metadata": {},
     "output_type": "display_data"
    },
    {
     "data": {
      "image/png": "[encoded data removed]",
      "text/plain": [
       "<matplotlib.figure.Figure at 0x114237c18>"
      ]
     },
     "metadata": {},
     "output_type": "display_data"
    },
    {
     "data": {
      "image/png": "[encoded data removed]",
      "text/plain": [
       "<matplotlib.figure.Figure at 0x1182e7908>"
      ]
     },
     "metadata": {},
     "output_type": "display_data"
    },
    {
     "data": {
      "image/png": "[encoded data removed]",
      "text/plain": [
       "<matplotlib.figure.Figure at 0x118577908>"
      ]
     },
     "metadata": {},
     "output_type": "display_data"
    },
    {
     "data": {
      "image/png": "[encoded data removed]",
      "text/plain": [
       "<matplotlib.figure.Figure at 0x1084c66d8>"
      ]
     },
     "metadata": {},
     "output_type": "display_data"
    },
    {
     "data": {
      "image/png": "[encoded data removed]",
      "text/plain": [
       "<matplotlib.figure.Figure at 0x113f393c8>"
      ]
     },
     "metadata": {},
     "output_type": "display_data"
    },
    {
     "data": {
      "image/png": "[encoded data removed]",
      "text/plain": [
       "<matplotlib.figure.Figure at 0x1185cd0f0>"
      ]
     },
     "metadata": {},
     "output_type": "display_data"
    },
    {
     "data": {
      "image/png": "[encoded data removed]",
      "text/plain": [
       "<matplotlib.figure.Figure at 0x113ac9828>"
      ]
     },
     "metadata": {},
     "output_type": "display_data"
    },
    {
     "data": {
      "image/png": "[encoded data removed]",
      "text/plain": [
       "<matplotlib.figure.Figure at 0x113b2e9e8>"
      ]
     },
     "metadata": {},
     "output_type": "display_data"
    }
   ],
   "source": [
    "for i in range(len(df1.columns)-1):\n",
    "    violin_plot(i)"
   ]
  },
  {
   "cell_type": "markdown",
   "metadata": {},
   "source": [
    "1.4 Comparison of median number between two classes by bar plot "
   ]
  },
  {
   "cell_type": "code",
   "execution_count": 25,
   "metadata": {},
   "outputs": [
    {
     "name": "stdout",
     "output_type": "stream",
     "text": [
      "Median number of Contact_Diversity : Default 115.0 Repayment 144.0\n",
      "Median number of Contact_Area_Diversity : Default 11.0 Repayment 14.0\n",
      "Median number of Visiting_Area_Diversity : Default 2.0 Repayment 3.0\n",
      "Median number of Roam_Ratio : Default 0.0 Repayment 0.013060428999999998\n",
      "Median number of Calling_Duration : Default 16965.0 Repayment 26951.0\n",
      "Median number of Called_Duration : Default 22638.0 Repayment 26230.0\n",
      "Median number of Transfered_Duration : Default 0.0 Repayment 0.0\n",
      "Median number of Domestic_Duration : Default 38701.0 Repayment 55856.0\n",
      "Median number of International_Duration : Default 0.0 Repayment 0.0\n",
      "Median number of T1_Flux : Default 551.8013392999999 Repayment 669.62281145\n",
      "Median number of T2_Flux : Default 194.8454949 Repayment 204.31488105\n",
      "Median number of T3_Flux : Default 0.0 Repayment 0.0\n",
      "Median number of T4_Flux : Default 349.2627875 Repayment 426.7267517\n",
      "Median number of T5_Flux : Default 252.7785592 Repayment 225.2722012\n",
      "Median number of T6_Flux : Default 252.7478981 Repayment 174.5476304\n",
      "Median number of T7_Flux : Default 1400.359396 Repayment 1005.0683665\n",
      "Median number of T8_Flux : Default 208.9059654 Repayment 231.0311737\n",
      "Median number of T9_Flux : Default 1270.061229 Repayment 1328.697075\n",
      "Median number of T10_Flux : Default 0.0 Repayment 0.0\n",
      "Median number of T11_Flux : Default 0.0 Repayment 0.0\n"
     ]
    }
   ],
   "source": [
    "for i in range(len(df1.columns)-1):\n",
    "    data=[dff1.iloc[:,i],dff0.iloc[:,i]]\n",
    "    print('Median number of', title[i],':','Default',data[0].median(),'Repayment',data[1].median())"
   ]
  },
  {
   "cell_type": "code",
   "execution_count": 31,
   "metadata": {
    "collapsed": true
   },
   "outputs": [],
   "source": [
    "default_median = []\n",
    "repayment_median = []\n",
    "for i in range(len(df1.columns)-1):\n",
    "    default_median.append(dff1.iloc[:,i].median())\n",
    "    repayment_median.append(dff0.iloc[:,i].median())"
   ]
  },
  {
   "cell_type": "code",
   "execution_count": 32,
   "metadata": {
    "collapsed": true
   },
   "outputs": [],
   "source": [
    "def median_bar_plot(s,e):\n",
    "    xtitle = df1.columns[s:e].tolist()\n",
    "    fig, ax = plt.subplots(figsize =(8,8))\n",
    "    index = np.arange(e-s)\n",
    "    bar_width = 0.35\n",
    "    \n",
    "    rects1 = plt.bar(index, default_median[s:e], bar_width,\n",
    "                 alpha=0.4,\n",
    "                 color='b',              \n",
    "                 label='Default')\n",
    "\n",
    "    rects2 = plt.bar(index + bar_width, repayment_median[s:e], bar_width,\n",
    "                 alpha=0.4,\n",
    "                 color='r',\n",
    "                 label='Repayment')\n",
    "    \n",
    "    plt.xlabel('Group')\n",
    "    plt.ylabel('Median Scores')\n",
    "    plt.title('Median Scores by defaults and repayment')\n",
    "    plt.xticks(index + bar_width / 2, (xtitle), rotation =90)\n",
    "    plt.legend()\n",
    "    plt.tight_layout()\n",
    "    plt.show()"
   ]
  },
  {
   "cell_type": "code",
   "execution_count": 34,
   "metadata": {},
   "outputs": [
    {
     "data": {
      "image/png": "[encoded data removed]",
      "text/plain": [
       "<matplotlib.figure.Figure at 0x114257748>"
      ]
     },
     "metadata": {},
     "output_type": "display_data"
    }
   ],
   "source": [
    "median_bar_plot(0,4)"
   ]
  },
  {
   "cell_type": "code",
   "execution_count": 35,
   "metadata": {},
   "outputs": [
    {
     "data": {
      "image/png": "[encoded data removed]",
      "text/plain": [
       "<matplotlib.figure.Figure at 0x108a8de48>"
      ]
     },
     "metadata": {},
     "output_type": "display_data"
    }
   ],
   "source": [
    "median_bar_plot(4,9)"
   ]
  },
  {
   "cell_type": "code",
   "execution_count": 36,
   "metadata": {},
   "outputs": [
    {
     "data": {
      "image/png": "[encoded data removed]",
      "text/plain": [
       "<matplotlib.figure.Figure at 0x114242c88>"
      ]
     },
     "metadata": {},
     "output_type": "display_data"
    }
   ],
   "source": [
    "median_bar_plot(9,20)"
   ]
  },
  {
   "cell_type": "markdown",
   "metadata": {},
   "source": [
    "1.5 Comparison of max number between two classes by bar plot "
   ]
  },
  {
   "cell_type": "code",
   "execution_count": 26,
   "metadata": {},
   "outputs": [
    {
     "name": "stdout",
     "output_type": "stream",
     "text": [
      "Max number of Contact_Diversity : Default 721 Repayment 1352\n",
      "Max number of Contact_Area_Diversity : Default 71 Repayment 68\n",
      "Max number of Visiting_Area_Diversity : Default 11 Repayment 30\n",
      "Max number of Roam_Ratio : Default 1.0 Repayment 1.0\n",
      "Max number of Calling_Duration : Default 247810 Repayment 331555\n",
      "Max number of Called_Duration : Default 259603 Repayment 302395\n",
      "Max number of Transfered_Duration : Default 1704 Repayment 25370\n",
      "Max number of Domestic_Duration : Default 412018 Repayment 591999\n",
      "Max number of International_Duration : Default 3207 Repayment 7207\n",
      "Max number of T1_Flux : Default 5723.250997 Repayment 9107.258435\n",
      "Max number of T2_Flux : Default 2284.256825 Repayment 4305.020957\n",
      "Max number of T3_Flux : Default 0.0 Repayment 2208.069091\n",
      "Max number of T4_Flux : Default 4138.685255 Repayment 7410.301704\n",
      "Max number of T5_Flux : Default 3255.072558 Repayment 3769.224471\n",
      "Max number of T6_Flux : Default 2434.253589 Repayment 6088.583777\n",
      "Max number of T7_Flux : Default 5854.597502 Repayment 10363.29434\n",
      "Max number of T8_Flux : Default 2436.517991 Repayment 6638.392712\n",
      "Max number of T9_Flux : Default 9723.910752 Repayment 14694.24958\n",
      "Max number of T10_Flux : Default 1342.622806 Repayment 1544.931129\n",
      "Max number of T11_Flux : Default 141.5951804 Repayment 3288.755996\n"
     ]
    }
   ],
   "source": [
    "for i in range(len(df1.columns)-1):\n",
    "    data=[dff1.iloc[:,i],dff0.iloc[:,i]]\n",
    "    print('Max number of', title[i],':','Default',data[0].max(),'Repayment',data[1].max())"
   ]
  },
  {
   "cell_type": "code",
   "execution_count": 37,
   "metadata": {
    "collapsed": true
   },
   "outputs": [],
   "source": [
    "default_max = []\n",
    "repayment_max = []\n",
    "for i in range(len(df1.columns)-1):\n",
    "    default_max.append(dff1.iloc[:,i].max())\n",
    "    repayment_max.append(dff0.iloc[:,i].max())"
   ]
  },
  {
   "cell_type": "code",
   "execution_count": 38,
   "metadata": {
    "collapsed": true
   },
   "outputs": [],
   "source": [
    "def max_bar_plot(s,e):\n",
    "    xtitle = df1.columns[s:e].tolist()\n",
    "    fig, ax = plt.subplots(figsize =(8,8))\n",
    "    index = np.arange(e-s)\n",
    "    bar_width = 0.35\n",
    "    \n",
    "    rects1 = plt.bar(index, default_max[s:e], bar_width,\n",
    "                 alpha=0.4,\n",
    "                 color='b',              \n",
    "                 label='Default')\n",
    "\n",
    "    rects2 = plt.bar(index + bar_width, repayment_max[s:e], bar_width,\n",
    "                 alpha=0.4,\n",
    "                 color='r',\n",
    "                 label='Repayment')\n",
    "    \n",
    "    plt.xlabel('Group')\n",
    "    plt.ylabel('Max Scores')\n",
    "    plt.title('Max Scores by defaults and repayment')\n",
    "    plt.xticks(index + bar_width / 2, (xtitle), rotation =90)\n",
    "    plt.legend()\n",
    "    plt.tight_layout()\n",
    "    plt.show()"
   ]
  },
  {
   "cell_type": "code",
   "execution_count": 39,
   "metadata": {},
   "outputs": [
    {
     "data": {
      "image/png": "[encoded data removed]",
      "text/plain": [
       "<matplotlib.figure.Figure at 0x118a489e8>"
      ]
     },
     "metadata": {},
     "output_type": "display_data"
    }
   ],
   "source": [
    "max_bar_plot(0,4)"
   ]
  },
  {
   "cell_type": "code",
   "execution_count": 40,
   "metadata": {},
   "outputs": [
    {
     "data": {
      "image/png": "[encoded data removed]",
      "text/plain": [
       "<matplotlib.figure.Figure at 0x118421438>"
      ]
     },
     "metadata": {},
     "output_type": "display_data"
    }
   ],
   "source": [
    "max_bar_plot(4,9)"
   ]
  },
  {
   "cell_type": "code",
   "execution_count": 41,
   "metadata": {},
   "outputs": [
    {
     "data": {
      "image/png": "[encoded data removed]",
      "text/plain": [
       "<matplotlib.figure.Figure at 0x1182f7828>"
      ]
     },
     "metadata": {},
     "output_type": "display_data"
    }
   ],
   "source": [
    "max_bar_plot(9,20)"
   ]
  },
  {
   "cell_type": "markdown",
   "metadata": {},
   "source": [
    "1.6 Test statistics for the difference of median number between two classes "
   ]
  },
  {
   "cell_type": "code",
   "execution_count": 28,
   "metadata": {
    "collapsed": true
   },
   "outputs": [],
   "source": [
    "from scipy.stats import median_test\n",
    "def median_statistics(column):\n",
    "    data=[dff1.iloc[:,column],dff0.iloc[:,column]]\n",
    "    stat, p, med, tbl = median_test(data[0],data[1])\n",
    "    print (title[i],'median-statistic is', stat,',' ' p-value is', p/2)"
   ]
  },
  {
   "cell_type": "code",
   "execution_count": 29,
   "metadata": {},
   "outputs": [
    {
     "name": "stdout",
     "output_type": "stream",
     "text": [
      "Contact_Diversity median-statistic is 1.13229103655 , p-value is 0.14364359189\n",
      "Contact_Area_Diversity median-statistic is 1.77198825308 , p-value is 0.091568104181\n",
      "Visiting_Area_Diversity median-statistic is 2.64294541226 , p-value is 0.0520052747668\n",
      "Roam_Ratio median-statistic is 3.47896815947 , p-value is 0.0310767418796\n",
      "Calling_Duration median-statistic is 1.36610578377 , p-value is 0.121241046195\n",
      "Called_Duration median-statistic is 0.489840289186 , p-value is 0.241999278213\n",
      "Transfered_Duration median-statistic is 0.315891740176 , p-value is 0.287043541121\n",
      "Domestic_Duration median-statistic is 0.873001692828 , p-value is 0.175062825709\n",
      "International_Duration median-statistic is 0.117191223386 , p-value is 0.366050514287\n",
      "T1_Flux median-statistic is 0.489840289186 , p-value is 0.241999278213\n",
      "T2_Flux median-statistic is 1.22020403498e-05 , p-value is 0.498606440838\n",
      "T3_Flux median-statistic is 1.61576099144 , p-value is 0.101841935655\n",
      "T4_Flux median-statistic is 1.969152562 , p-value is 0.0802689207298\n",
      "T5_Flux median-statistic is 1.22020403498e-05 , p-value is 0.498606440838\n",
      "T6_Flux median-statistic is 1.98880858476 , p-value is 0.0792327540256\n",
      "T7_Flux median-statistic is 5.51352658584 , p-value is 0.00943498090158\n",
      "T8_Flux median-statistic is 0.0533455437921 , p-value is 0.408670397232\n",
      "T9_Flux median-statistic is 0.489840289186 , p-value is 0.241999278213\n",
      "T10_Flux median-statistic is 1.64857084968 , p-value is 0.0995767788732\n",
      "T11_Flux median-statistic is 0.186798578561 , p-value is 0.332797298842\n"
     ]
    }
   ],
   "source": [
    "for i in range(len(df1.columns)-1):\n",
    "    median_statistics(i)"
   ]
  },
  {
   "cell_type": "markdown",
   "metadata": {},
   "source": [
    "# Section2: Machine Learning"
   ]
  },
  {
   "cell_type": "code",
   "execution_count": 42,
   "metadata": {
    "scrolled": true
   },
   "outputs": [
    {
     "name": "stderr",
     "output_type": "stream",
     "text": [
      "/Users/zuochaozhao/anaconda/lib/python3.6/site-packages/sklearn/cross_validation.py:44: DeprecationWarning: This module was deprecated in version 0.18 in favor of the model_selection module into which all the refactored classes and functions are moved. Also note that the interface of the new CV iterators are different from that of this module. This module will be removed in 0.20.\n",
      "  \"This module will be removed in 0.20.\", DeprecationWarning)\n"
     ]
    }
   ],
   "source": [
    "from sklearn.linear_model import LogisticRegression\n",
    "from sklearn.ensemble import RandomForestClassifier\n",
    "from sklearn.cross_validation import StratifiedKFold\n",
    "from sklearn.metrics import roc_auc_score\n",
    "from sklearn.model_selection import train_test_split\n",
    "import tensorflow as tf\n",
    "import xgboost as xgb\n",
    "from sklearn.metrics import classification_report\n",
    "from sklearn.metrics import accuracy_score"
   ]
  },
  {
   "cell_type": "code",
   "execution_count": null,
   "metadata": {
    "collapsed": true
   },
   "outputs": [],
   "source": [
    "#Define training and test data set"
   ]
  },
  {
   "cell_type": "code",
   "execution_count": 43,
   "metadata": {
    "collapsed": true
   },
   "outputs": [],
   "source": [
    "y = np.array(df1['Response'])"
   ]
  },
  {
   "cell_type": "code",
   "execution_count": 45,
   "metadata": {
    "collapsed": true
   },
   "outputs": [],
   "source": [
    "df1.drop(['Response'], axis=1, inplace=True)\n",
    "df1.drop(['International_Duration','T3_Flux'], axis=1, inplace=True)"
   ]
  },
  {
   "cell_type": "code",
   "execution_count": 48,
   "metadata": {
    "collapsed": true
   },
   "outputs": [],
   "source": [
    "X = np.array(df1)"
   ]
  },
  {
   "cell_type": "code",
   "execution_count": 50,
   "metadata": {
    "collapsed": true
   },
   "outputs": [],
   "source": [
    "X_train, X_test, y_train, y_test = train_test_split(X, y, random_state=0,test_size=0.3)"
   ]
  },
  {
   "cell_type": "code",
   "execution_count": 57,
   "metadata": {},
   "outputs": [
    {
     "name": "stdout",
     "output_type": "stream",
     "text": [
      "fold 1/4 auc 0.577506\n",
      "fold 1/4 accuracy 0.972789\n",
      "fold 2/4 auc 0.602370\n",
      "fold 2/4 accuracy 0.972789\n",
      "fold 3/4 auc 0.738080\n",
      "fold 3/4 accuracy 0.975000\n",
      "fold 4/4 auc 0.651869\n",
      "fold 4/4 accuracy 0.974943\n",
      "grand AUC is 0.642456\n",
      "grand accuracy is 0.973880\n"
     ]
    }
   ],
   "source": [
    "#Random Forest\n",
    "model=RandomForestClassifier(n_estimators=200, max_depth=5, max_features=0.3)\n",
    "kfolder=StratifiedKFold(y_train, n_folds=4, shuffle=True, random_state=1)\n",
    "grand_auc =0.0\n",
    "i = 0\n",
    "grand_accuracy =0.0\n",
    "for train_index, test_index in kfolder:\n",
    "    X_trained, X_cv = X_train[train_index], X_train[test_index]\n",
    "    y_trained, y_cv = y_train[train_index], y_train[test_index]\n",
    "    model.fit(X_trained, y_trained)\n",
    "    preds = model.predict_proba(X_cv)[:,1]\n",
    "    pred = model.predict(X_cv)\n",
    "    auc=roc_auc_score(y_cv,preds)\n",
    "    accuracy=accuracy_score(y_cv, pred)\n",
    "    print('fold %d/%d auc %f' %(i+1,4,auc))\n",
    "    print('fold %d/%d accuracy %f' %(i+1,4,accuracy))\n",
    "    grand_auc +=auc\n",
    "    grand_accuracy +=accuracy\n",
    "    i +=1\n",
    "    \n",
    "grand_auc /=4.0\n",
    "print('grand AUC is %f' %(grand_auc))\n",
    "grand_accuracy /=4.0\n",
    "print('grand accuracy is %f' %(grand_accuracy))"
   ]
  },
  {
   "cell_type": "code",
   "execution_count": 60,
   "metadata": {
    "collapsed": true
   },
   "outputs": [],
   "source": [
    "model.fit(X_train,y_train)\n",
    "preds_rf_train = model.predict_proba(X_train)[:,1]\n",
    "preds_rf_test = model.predict_proba(X_test)[:,1]"
   ]
  },
  {
   "cell_type": "code",
   "execution_count": 68,
   "metadata": {},
   "outputs": [
    {
     "name": "stdout",
     "output_type": "stream",
     "text": [
      "fold 1/4 auc 0.743590\n",
      "fold 1/4 accuracy 0.972789\n",
      "fold 2/4 auc 0.543901\n",
      "fold 2/4 accuracy 0.965986\n",
      "fold 3/4 auc 0.611570\n",
      "fold 3/4 accuracy 0.977273\n",
      "fold 4/4 auc 0.512957\n",
      "fold 4/4 accuracy 0.974943\n",
      "grand AUC is 0.603004\n",
      "grand accuracy is 0.972748\n"
     ]
    }
   ],
   "source": [
    "#Logistic Regression\n",
    "model=LogisticRegression(C=10)\n",
    "kfolder=StratifiedKFold(y_train, n_folds=4, shuffle=True, random_state=1)\n",
    "grand_auc =0.0\n",
    "i = 0\n",
    "grand_accuracy =0.0\n",
    "for train_index, test_index in kfolder:\n",
    "    X_trained, X_cv = X_train[train_index], X_train[test_index]\n",
    "    y_trained, y_cv = y_train[train_index], y_train[test_index]\n",
    "    model.fit(X_trained, y_trained)\n",
    "    preds = model.predict_proba(X_cv)[:,1]\n",
    "    pred = model.predict(X_cv)\n",
    "    auc=roc_auc_score(y_cv,preds)\n",
    "    accuracy=accuracy_score(y_cv, pred)\n",
    "    print('fold %d/%d auc %f' %(i+1,4,auc))\n",
    "    print('fold %d/%d accuracy %f' %(i+1,4,accuracy))\n",
    "    grand_auc +=auc\n",
    "    grand_accuracy +=accuracy\n",
    "    i +=1\n",
    "    \n",
    "grand_auc /=4.0\n",
    "print('grand AUC is %f' %(grand_auc))\n",
    "grand_accuracy /=4.0\n",
    "print('grand accuracy is %f' %(grand_accuracy))"
   ]
  },
  {
   "cell_type": "code",
   "execution_count": 69,
   "metadata": {
    "collapsed": true
   },
   "outputs": [],
   "source": [
    "model.fit(X_train,y_train)\n",
    "preds_lr_train = model.predict_proba(X_train)[:,1]\n",
    "preds_lr_test = model.predict_proba(X_test)[:,1]"
   ]
  },
  {
   "cell_type": "code",
   "execution_count": 71,
   "metadata": {},
   "outputs": [
    {
     "name": "stdout",
     "output_type": "stream",
     "text": [
      "fold 1/4 auc 0.535936\n",
      "fold 1/4 accuracy 0.972789\n",
      "fold 2/4 auc 0.670357\n",
      "fold 2/4 accuracy 0.972789\n",
      "fold 3/4 auc 0.686586\n",
      "fold 3/4 accuracy 0.975000\n",
      "fold 4/4 auc 0.752336\n",
      "fold 4/4 accuracy 0.974943\n",
      "grand AUC is 0.661304\n",
      "grand accuracy is 0.973880\n"
     ]
    }
   ],
   "source": [
    "#Gradient Boosting\n",
    "model=xgb.XGBClassifier(learning_rate = 0.01, n_estimators= 500, colsample_bytree=0.8)\n",
    "kfolder=StratifiedKFold(y_train, n_folds=4, shuffle=True, random_state=1)\n",
    "grand_auc =0.0\n",
    "i = 0\n",
    "grand_accuracy =0.0\n",
    "for train_index, test_index in kfolder:\n",
    "    X_trained, X_cv = X_train[train_index], X_train[test_index]\n",
    "    y_trained, y_cv = y_train[train_index], y_train[test_index]\n",
    "    model.fit(X_trained, y_trained)\n",
    "    preds = model.predict_proba(X_cv)[:,1]\n",
    "    pred = model.predict(X_cv)\n",
    "    auc=roc_auc_score(y_cv,preds)\n",
    "    accuracy=accuracy_score(y_cv, pred)\n",
    "    print('fold %d/%d auc %f' %(i+1,4,auc))\n",
    "    print('fold %d/%d accuracy %f' %(i+1,4,accuracy))\n",
    "    grand_auc +=auc\n",
    "    grand_accuracy +=accuracy\n",
    "    i +=1\n",
    "    \n",
    "grand_auc /=4.0\n",
    "print('grand AUC is %f' %(grand_auc))\n",
    "grand_accuracy /=4.0\n",
    "print('grand accuracy is %f' %(grand_accuracy))"
   ]
  },
  {
   "cell_type": "code",
   "execution_count": null,
   "metadata": {
    "collapsed": true
   },
   "outputs": [],
   "source": [
    "#Stack \n",
    "#First layer : logitistic and random forest\n",
    "#Second layer : xgb"
   ]
  },
  {
   "cell_type": "code",
   "execution_count": 72,
   "metadata": {
    "collapsed": true
   },
   "outputs": [],
   "source": [
    "x_train = np.stack((preds_lr_train, preds_rf_train), axis=-1)"
   ]
  },
  {
   "cell_type": "code",
   "execution_count": 74,
   "metadata": {
    "collapsed": true
   },
   "outputs": [],
   "source": [
    "x_test = np.stack((preds_lr_test, preds_rf_test), axis=-1)"
   ]
  },
  {
   "cell_type": "code",
   "execution_count": 75,
   "metadata": {
    "scrolled": false
   },
   "outputs": [
    {
     "name": "stdout",
     "output_type": "stream",
     "text": [
      "auc is 0.557701\n"
     ]
    }
   ],
   "source": [
    "gbm = xgb.XGBClassifier(learning_rate = 0.01, n_estimators= 500, colsample_bytree=0.8).fit(x_train, y_train)\n",
    "predictions = gbm.predict_proba(x_test)[:,1]\n",
    "auc=roc_auc_score(y_test,predictions)\n",
    "print('auc is %f' %(auc))"
   ]
  },
  {
   "cell_type": "code",
   "execution_count": null,
   "metadata": {
    "collapsed": true
   },
   "outputs": [],
   "source": [
    "#h2o auto ML"
   ]
  },
  {
   "cell_type": "code",
   "execution_count": 89,
   "metadata": {},
   "outputs": [
    {
     "name": "stdout",
     "output_type": "stream",
     "text": [
      "Checking whether there is an H2O instance running at http://localhost:54321. connected.\n"
     ]
    },
    {
     "data": {
      "text/html": [
       "<div style=\"overflow:auto\"><table style=\"width:50%\"><tr><td>H2O cluster uptime:</td>\n",
       "<td>3 hours 58 mins</td></tr>\n",
       "<tr><td>H2O cluster timezone:</td>\n",
       "<td>Europe/London</td></tr>\n",
       "<tr><td>H2O data parsing timezone:</td>\n",
       "<td>UTC</td></tr>\n",
       "<tr><td>H2O cluster version:</td>\n",
       "<td>3.18.0.5</td></tr>\n",
       "<tr><td>H2O cluster version age:</td>\n",
       "<td>14 days, 22 hours and 10 minutes </td></tr>\n",
       "<tr><td>H2O cluster name:</td>\n",
       "<td>H2O_from_python_zuochaozhao_axd4hq</td></tr>\n",
       "<tr><td>H2O cluster total nodes:</td>\n",
       "<td>1</td></tr>\n",
       "<tr><td>H2O cluster free memory:</td>\n",
       "<td>1.433 Gb</td></tr>\n",
       "<tr><td>H2O cluster total cores:</td>\n",
       "<td>4</td></tr>\n",
       "<tr><td>H2O cluster allowed cores:</td>\n",
       "<td>4</td></tr>\n",
       "<tr><td>H2O cluster status:</td>\n",
       "<td>locked, healthy</td></tr>\n",
       "<tr><td>H2O connection url:</td>\n",
       "<td>http://localhost:54321</td></tr>\n",
       "<tr><td>H2O connection proxy:</td>\n",
       "<td>None</td></tr>\n",
       "<tr><td>H2O internal security:</td>\n",
       "<td>False</td></tr>\n",
       "<tr><td>H2O API Extensions:</td>\n",
       "<td>XGBoost, Algos, AutoML, Core V3, Core V4</td></tr>\n",
       "<tr><td>Python version:</td>\n",
       "<td>3.6.1 final</td></tr></table></div>"
      ],
      "text/plain": [
       "--------------------------  ----------------------------------------\n",
       "H2O cluster uptime:         3 hours 58 mins\n",
       "H2O cluster timezone:       Europe/London\n",
       "H2O data parsing timezone:  UTC\n",
       "H2O cluster version:        3.18.0.5\n",
       "H2O cluster version age:    14 days, 22 hours and 10 minutes\n",
       "H2O cluster name:           H2O_from_python_zuochaozhao_axd4hq\n",
       "H2O cluster total nodes:    1\n",
       "H2O cluster free memory:    1.433 Gb\n",
       "H2O cluster total cores:    4\n",
       "H2O cluster allowed cores:  4\n",
       "H2O cluster status:         locked, healthy\n",
       "H2O connection url:         http://localhost:54321\n",
       "H2O connection proxy:\n",
       "H2O internal security:      False\n",
       "H2O API Extensions:         XGBoost, Algos, AutoML, Core V3, Core V4\n",
       "Python version:             3.6.1 final\n",
       "--------------------------  ----------------------------------------"
      ]
     },
     "metadata": {},
     "output_type": "display_data"
    },
    {
     "name": "stdout",
     "output_type": "stream",
     "text": [
      "Parse progress: |█████████████████████████████████████████████████████████| 100%\n",
      "Parse progress: |█████████████████████████████████████████████████████████| 100%\n"
     ]
    }
   ],
   "source": [
    "import h2o\n",
    "from h2o.automl import H2OAutoML\n",
    "h2o.init()\n",
    "train = h2o.import_file(\"~/Desktop/train.csv\")\n",
    "test = h2o.import_file(\"~/Desktop/test.csv\")"
   ]
  },
  {
   "cell_type": "code",
   "execution_count": 90,
   "metadata": {},
   "outputs": [
    {
     "name": "stdout",
     "output_type": "stream",
     "text": [
      "AutoML progress: |████████████████████████████████████████████████████████| 100%\n",
      "Parse progress: |█████████████████████████████████████████████████████████| 100%\n",
      "Parse progress: |█████████████████████████████████████████████████████████| 100%\n",
      "drf prediction progress: |████████████████████████████████████████████████| 100%\n",
      "drf prediction progress: |████████████████████████████████████████████████| 100%\n"
     ]
    }
   ],
   "source": [
    "x = train.columns\n",
    "y = \"Response\"\n",
    "x.remove(y)\n",
    "\n",
    "# For binary classification, response should be a factor\n",
    "train[y] = train[y].asfactor()\n",
    "test[y] = test[y].asfactor()\n",
    "\n",
    "\n",
    "# Run AutoML for 30 seconds\n",
    "aml = H2OAutoML(max_runtime_secs = 1000)\n",
    "aml.train(x = x, y = y,\n",
    "          training_frame = train,\n",
    "          leaderboard_frame = test)\n",
    "\n",
    "# View the AutoML Leaderboard\n",
    "lb = aml.leaderboard\n",
    "lb\n",
    "\n",
    "#  model_id                                                    auc    logloss\n",
    "#  ----------------------------------------------------   --------  ---------\n",
    "#  StackedEnsemble_AllModels_0_AutoML_20171121_010846     0.786063   0.555833\n",
    "#  StackedEnsemble_BestOfFamily_0_AutoML_20171121_010846  0.783367   0.558511\n",
    "#  GBM_grid_0_AutoML_20171121_010846_model_1              0.779242   0.562157\n",
    "#  GBM_grid_0_AutoML_20171121_010846_model_0              0.778855   0.562648\n",
    "#  GBM_grid_0_AutoML_20171121_010846_model_3              0.769666   0.572165\n",
    "#  GBM_grid_0_AutoML_20171121_010846_model_2              0.769147   0.572064\n",
    "#  XRT_0_AutoML_20171121_010846                           0.744612   0.593885\n",
    "#  DRF_0_AutoML_20171121_010846                           0.733039   0.608609\n",
    "#  GLM_grid_0_AutoML_20171121_010846_model_0              0.685211   0.635138\n",
    "\n",
    "#  [9 rows x 3 columns]\n",
    "\n",
    "# The leader model is stored here\n",
    "aml.leader\n",
    "\n",
    "\n",
    "# If you need to generate predictions on a test set, you can make\n",
    "# predictions directly on the `\"H2OAutoML\"` object, or on the leader\n",
    "# model object directly\n",
    "\n",
    "preds = aml.predict(test)\n",
    "\n",
    "# or:\n",
    "preds = aml.leader.predict(test)"
   ]
  },
  {
   "cell_type": "code",
   "execution_count": 92,
   "metadata": {
    "scrolled": false
   },
   "outputs": [
    {
     "data": {
      "text/html": [
       "<table>\n",
       "<thead>\n",
       "<tr><th>model_id                                             </th><th style=\"text-align: right;\">     auc</th><th style=\"text-align: right;\">  logloss</th></tr>\n",
       "</thead>\n",
       "<tbody>\n",
       "<tr><td>DRF_0_AutoML_20180412_231206                         </td><td style=\"text-align: right;\">0.626913</td><td style=\"text-align: right;\"> 0.702193</td></tr>\n",
       "<tr><td>GBM_grid_0_AutoML_20180412_231206_model_7            </td><td style=\"text-align: right;\">0.611612</td><td style=\"text-align: right;\"> 1.96838 </td></tr>\n",
       "<tr><td>StackedEnsemble_BestOfFamily_0_AutoML_20180412_231206</td><td style=\"text-align: right;\">0.603256</td><td style=\"text-align: right;\"> 0.161749</td></tr>\n",
       "<tr><td>GLM_grid_0_AutoML_20180412_231206_model_0            </td><td style=\"text-align: right;\">0.603256</td><td style=\"text-align: right;\"> 0.166364</td></tr>\n",
       "<tr><td>DeepLearning_0_AutoML_20180412_231206                </td><td style=\"text-align: right;\">0.587032</td><td style=\"text-align: right;\"> 0.177345</td></tr>\n",
       "<tr><td>GBM_grid_0_AutoML_20180412_231206_model_11           </td><td style=\"text-align: right;\">0.57401 </td><td style=\"text-align: right;\"> 0.161356</td></tr>\n",
       "<tr><td>StackedEnsemble_AllModels_0_AutoML_20180412_231206   </td><td style=\"text-align: right;\">0.558492</td><td style=\"text-align: right;\"> 0.161909</td></tr>\n",
       "<tr><td>GBM_grid_0_AutoML_20180412_231206_model_8            </td><td style=\"text-align: right;\">0.554042</td><td style=\"text-align: right;\"> 0.195351</td></tr>\n",
       "<tr><td>GBM_grid_0_AutoML_20180412_231206_model_4            </td><td style=\"text-align: right;\">0.550787</td><td style=\"text-align: right;\"> 0.174538</td></tr>\n",
       "<tr><td>GBM_grid_0_AutoML_20180412_231206_model_13           </td><td style=\"text-align: right;\">0.546392</td><td style=\"text-align: right;\"> 0.178196</td></tr>\n",
       "</tbody>\n",
       "</table>"
      ]
     },
     "metadata": {},
     "output_type": "display_data"
    },
    {
     "data": {
      "text/plain": []
     },
     "execution_count": 92,
     "metadata": {},
     "output_type": "execute_result"
    }
   ],
   "source": [
    "lb"
   ]
  },
  {
   "cell_type": "code",
   "execution_count": 93,
   "metadata": {},
   "outputs": [
    {
     "name": "stdout",
     "output_type": "stream",
     "text": [
      "Model Details\n",
      "=============\n",
      "H2ORandomForestEstimator :  Distributed Random Forest\n",
      "Model Key:  DRF_0_AutoML_20180412_231206\n",
      "\n",
      "\n",
      "ModelMetricsBinomial: drf\n",
      "** Reported on train data. **\n",
      "\n",
      "MSE: 0.03863165664228788\n",
      "RMSE: 0.19654937456600538\n",
      "LogLoss: 0.9000481027935825\n",
      "Mean Per-Class Error: 0.43347810351067684\n",
      "AUC: 0.5608975750995295\n",
      "Gini: 0.12179515019905907\n",
      "Confusion Matrix (Act/Pred) for max f1 @ threshold = 0.11111108462015784: \n"
     ]
    },
    {
     "data": {
      "text/html": [
       "<div style=\"overflow:auto\"><table style=\"width:50%\"><tr><td><b></b></td>\n",
       "<td><b>0</b></td>\n",
       "<td><b>1</b></td>\n",
       "<td><b>Error</b></td>\n",
       "<td><b>Rate</b></td></tr>\n",
       "<tr><td>0</td>\n",
       "<td>1364.0</td>\n",
       "<td>171.0</td>\n",
       "<td>0.1114</td>\n",
       "<td> (171.0/1535.0)</td></tr>\n",
       "<tr><td>1</td>\n",
       "<td>34.0</td>\n",
       "<td>11.0</td>\n",
       "<td>0.7556</td>\n",
       "<td> (34.0/45.0)</td></tr>\n",
       "<tr><td>Total</td>\n",
       "<td>1398.0</td>\n",
       "<td>182.0</td>\n",
       "<td>0.1297</td>\n",
       "<td> (205.0/1580.0)</td></tr></table></div>"
      ],
      "text/plain": [
       "       0     1    Error    Rate\n",
       "-----  ----  ---  -------  --------------\n",
       "0      1364  171  0.1114   (171.0/1535.0)\n",
       "1      34    11   0.7556   (34.0/45.0)\n",
       "Total  1398  182  0.1297   (205.0/1580.0)"
      ]
     },
     "metadata": {},
     "output_type": "display_data"
    },
    {
     "name": "stdout",
     "output_type": "stream",
     "text": [
      "Maximum Metrics: Maximum metrics at their respective thresholds\n",
      "\n"
     ]
    },
    {
     "data": {
      "text/html": [
       "<div style=\"overflow:auto\"><table style=\"width:50%\"><tr><td><b>metric</b></td>\n",
       "<td><b>threshold</b></td>\n",
       "<td><b>value</b></td>\n",
       "<td><b>idx</b></td></tr>\n",
       "<tr><td>max f1</td>\n",
       "<td>0.1111111</td>\n",
       "<td>0.0969163</td>\n",
       "<td>12.0</td></tr>\n",
       "<tr><td>max f2</td>\n",
       "<td>0.1111111</td>\n",
       "<td>0.1519337</td>\n",
       "<td>12.0</td></tr>\n",
       "<tr><td>max f0point5</td>\n",
       "<td>1.0</td>\n",
       "<td>0.0724638</td>\n",
       "<td>0.0</td></tr>\n",
       "<tr><td>max accuracy</td>\n",
       "<td>1.0</td>\n",
       "<td>0.9689873</td>\n",
       "<td>0.0</td></tr>\n",
       "<tr><td>max precision</td>\n",
       "<td>1.0</td>\n",
       "<td>0.1666667</td>\n",
       "<td>0.0</td></tr>\n",
       "<tr><td>max recall</td>\n",
       "<td>0.0</td>\n",
       "<td>1.0</td>\n",
       "<td>13.0</td></tr>\n",
       "<tr><td>max specificity</td>\n",
       "<td>1.0</td>\n",
       "<td>0.9967427</td>\n",
       "<td>0.0</td></tr>\n",
       "<tr><td>max absolute_mcc</td>\n",
       "<td>0.1111111</td>\n",
       "<td>0.0693212</td>\n",
       "<td>12.0</td></tr>\n",
       "<tr><td>max min_per_class_accuracy</td>\n",
       "<td>0.1111111</td>\n",
       "<td>0.2444444</td>\n",
       "<td>12.0</td></tr>\n",
       "<tr><td>max mean_per_class_accuracy</td>\n",
       "<td>0.1111111</td>\n",
       "<td>0.5665219</td>\n",
       "<td>12.0</td></tr></table></div>"
      ],
      "text/plain": [
       "metric                       threshold    value      idx\n",
       "---------------------------  -----------  ---------  -----\n",
       "max f1                       0.111111     0.0969163  12\n",
       "max f2                       0.111111     0.151934   12\n",
       "max f0point5                 1            0.0724638  0\n",
       "max accuracy                 1            0.968987   0\n",
       "max precision                1            0.166667   0\n",
       "max recall                   0            1          13\n",
       "max specificity              1            0.996743   0\n",
       "max absolute_mcc             0.111111     0.0693212  12\n",
       "max min_per_class_accuracy   0.111111     0.244444   12\n",
       "max mean_per_class_accuracy  0.111111     0.566522   12"
      ]
     },
     "metadata": {},
     "output_type": "display_data"
    },
    {
     "name": "stdout",
     "output_type": "stream",
     "text": [
      "Gains/Lift Table: Avg response rate:  2.86 %\n",
      "\n"
     ]
    },
    {
     "data": {
      "text/html": [
       "<div style=\"overflow:auto\"><table style=\"width:50%\"><tr><td><b></b></td>\n",
       "<td><b>group</b></td>\n",
       "<td><b>cumulative_data_fraction</b></td>\n",
       "<td><b>lower_threshold</b></td>\n",
       "<td><b>lift</b></td>\n",
       "<td><b>cumulative_lift</b></td>\n",
       "<td><b>response_rate</b></td>\n",
       "<td><b>cumulative_response_rate</b></td>\n",
       "<td><b>capture_rate</b></td>\n",
       "<td><b>cumulative_capture_rate</b></td>\n",
       "<td><b>gain</b></td>\n",
       "<td><b>cumulative_gain</b></td></tr>\n",
       "<tr><td></td>\n",
       "<td>1</td>\n",
       "<td>0.0161893</td>\n",
       "<td>0.5</td>\n",
       "<td>1.3428094</td>\n",
       "<td>1.3428094</td>\n",
       "<td>0.0384615</td>\n",
       "<td>0.0384615</td>\n",
       "<td>0.0217391</td>\n",
       "<td>0.0217391</td>\n",
       "<td>34.2809365</td>\n",
       "<td>34.2809365</td></tr>\n",
       "<tr><td></td>\n",
       "<td>2</td>\n",
       "<td>0.0485679</td>\n",
       "<td>0.3333333</td>\n",
       "<td>0.6714047</td>\n",
       "<td>0.8952062</td>\n",
       "<td>0.0192308</td>\n",
       "<td>0.0256410</td>\n",
       "<td>0.0217391</td>\n",
       "<td>0.0434783</td>\n",
       "<td>-32.8595318</td>\n",
       "<td>-10.4793757</td></tr>\n",
       "<tr><td></td>\n",
       "<td>3</td>\n",
       "<td>0.0772105</td>\n",
       "<td>0.25</td>\n",
       "<td>1.5179584</td>\n",
       "<td>1.1262272</td>\n",
       "<td>0.0434783</td>\n",
       "<td>0.0322581</td>\n",
       "<td>0.0434783</td>\n",
       "<td>0.0869565</td>\n",
       "<td>51.7958412</td>\n",
       "<td>12.6227209</td></tr>\n",
       "<tr><td></td>\n",
       "<td>4</td>\n",
       "<td>0.1027397</td>\n",
       "<td>0.2000000</td>\n",
       "<td>2.5546129</td>\n",
       "<td>1.4811594</td>\n",
       "<td>0.0731707</td>\n",
       "<td>0.0424242</td>\n",
       "<td>0.0652174</td>\n",
       "<td>0.1521739</td>\n",
       "<td>155.4612937</td>\n",
       "<td>48.1159420</td></tr>\n",
       "<tr><td></td>\n",
       "<td>5</td>\n",
       "<td>1.0</td>\n",
       "<td>0.0</td>\n",
       "<td>0.9449054</td>\n",
       "<td>1.0</td>\n",
       "<td>0.0270645</td>\n",
       "<td>0.0286426</td>\n",
       "<td>0.8478261</td>\n",
       "<td>1.0</td>\n",
       "<td>-5.5094590</td>\n",
       "<td>0.0</td></tr></table></div>"
      ],
      "text/plain": [
       "    group    cumulative_data_fraction    lower_threshold    lift      cumulative_lift    response_rate    cumulative_response_rate    capture_rate    cumulative_capture_rate    gain      cumulative_gain\n",
       "--  -------  --------------------------  -----------------  --------  -----------------  ---------------  --------------------------  --------------  -------------------------  --------  -----------------\n",
       "    1        0.0161893                   0.5                1.34281   1.34281            0.0384615        0.0384615                   0.0217391       0.0217391                  34.2809   34.2809\n",
       "    2        0.0485679                   0.333333           0.671405  0.895206           0.0192308        0.025641                    0.0217391       0.0434783                  -32.8595  -10.4794\n",
       "    3        0.0772105                   0.25               1.51796   1.12623            0.0434783        0.0322581                   0.0434783       0.0869565                  51.7958   12.6227\n",
       "    4        0.10274                     0.2                2.55461   1.48116            0.0731707        0.0424242                   0.0652174       0.152174                   155.461   48.1159\n",
       "    5        1                           0                  0.944905  1                  0.0270645        0.0286426                   0.847826        1                          -5.50946  0"
      ]
     },
     "metadata": {},
     "output_type": "display_data"
    },
    {
     "name": "stdout",
     "output_type": "stream",
     "text": [
      "\n",
      "\n",
      "ModelMetricsBinomial: drf\n",
      "** Reported on validation data. **\n",
      "\n",
      "MSE: 0.02627627627627628\n",
      "RMSE: 0.1620995875265458\n",
      "LogLoss: 0.48035030734777334\n",
      "Mean Per-Class Error: 0.3494962216624685\n",
      "AUC: 0.6473551637279596\n",
      "Gini: 0.2947103274559193\n",
      "Confusion Matrix (Act/Pred) for max f1 @ threshold = 0.11111111111111116: \n"
     ]
    },
    {
     "data": {
      "text/html": [
       "<div style=\"overflow:auto\"><table style=\"width:50%\"><tr><td><b></b></td>\n",
       "<td><b>0</b></td>\n",
       "<td><b>1</b></td>\n",
       "<td><b>Error</b></td>\n",
       "<td><b>Rate</b></td></tr>\n",
       "<tr><td>0</td>\n",
       "<td>318.0</td>\n",
       "<td>79.0</td>\n",
       "<td>0.199</td>\n",
       "<td> (79.0/397.0)</td></tr>\n",
       "<tr><td>1</td>\n",
       "<td>5.0</td>\n",
       "<td>5.0</td>\n",
       "<td>0.5</td>\n",
       "<td> (5.0/10.0)</td></tr>\n",
       "<tr><td>Total</td>\n",
       "<td>323.0</td>\n",
       "<td>84.0</td>\n",
       "<td>0.2064</td>\n",
       "<td> (84.0/407.0)</td></tr></table></div>"
      ],
      "text/plain": [
       "       0    1    Error    Rate\n",
       "-----  ---  ---  -------  ------------\n",
       "0      318  79   0.199    (79.0/397.0)\n",
       "1      5    5    0.5      (5.0/10.0)\n",
       "Total  323  84   0.2064   (84.0/407.0)"
      ]
     },
     "metadata": {},
     "output_type": "display_data"
    },
    {
     "name": "stdout",
     "output_type": "stream",
     "text": [
      "Maximum Metrics: Maximum metrics at their respective thresholds\n",
      "\n"
     ]
    },
    {
     "data": {
      "text/html": [
       "<div style=\"overflow:auto\"><table style=\"width:50%\"><tr><td><b>metric</b></td>\n",
       "<td><b>threshold</b></td>\n",
       "<td><b>value</b></td>\n",
       "<td><b>idx</b></td></tr>\n",
       "<tr><td>max f1</td>\n",
       "<td>0.1111111</td>\n",
       "<td>0.1063830</td>\n",
       "<td>2.0</td></tr>\n",
       "<tr><td>max f2</td>\n",
       "<td>0.1111111</td>\n",
       "<td>0.2016129</td>\n",
       "<td>2.0</td></tr>\n",
       "<tr><td>max f0point5</td>\n",
       "<td>0.1111111</td>\n",
       "<td>0.0722543</td>\n",
       "<td>2.0</td></tr>\n",
       "<tr><td>max accuracy</td>\n",
       "<td>0.3333333</td>\n",
       "<td>0.9656020</td>\n",
       "<td>0.0</td></tr>\n",
       "<tr><td>max precision</td>\n",
       "<td>0.1111111</td>\n",
       "<td>0.0595238</td>\n",
       "<td>2.0</td></tr>\n",
       "<tr><td>max recall</td>\n",
       "<td>0.0</td>\n",
       "<td>1.0</td>\n",
       "<td>4.0</td></tr>\n",
       "<tr><td>max specificity</td>\n",
       "<td>0.3333333</td>\n",
       "<td>0.9899244</td>\n",
       "<td>0.0</td></tr>\n",
       "<tr><td>max absolute_mcc</td>\n",
       "<td>0.1111111</td>\n",
       "<td>0.1151415</td>\n",
       "<td>2.0</td></tr>\n",
       "<tr><td>max min_per_class_accuracy</td>\n",
       "<td>0.1111111</td>\n",
       "<td>0.5</td>\n",
       "<td>2.0</td></tr>\n",
       "<tr><td>max mean_per_class_accuracy</td>\n",
       "<td>0.1111111</td>\n",
       "<td>0.6505038</td>\n",
       "<td>2.0</td></tr></table></div>"
      ],
      "text/plain": [
       "metric                       threshold    value      idx\n",
       "---------------------------  -----------  ---------  -----\n",
       "max f1                       0.111111     0.106383   2\n",
       "max f2                       0.111111     0.201613   2\n",
       "max f0point5                 0.111111     0.0722543  2\n",
       "max accuracy                 0.333333     0.965602   0\n",
       "max precision                0.111111     0.0595238  2\n",
       "max recall                   0            1          4\n",
       "max specificity              0.333333     0.989924   0\n",
       "max absolute_mcc             0.111111     0.115141   2\n",
       "max min_per_class_accuracy   0.111111     0.5        2\n",
       "max mean_per_class_accuracy  0.111111     0.650504   2"
      ]
     },
     "metadata": {},
     "output_type": "display_data"
    },
    {
     "name": "stdout",
     "output_type": "stream",
     "text": [
      "Gains/Lift Table: Avg response rate:  2.46 %\n",
      "\n"
     ]
    },
    {
     "data": {
      "text/html": [
       "<div style=\"overflow:auto\"><table style=\"width:50%\"><tr><td><b></b></td>\n",
       "<td><b>group</b></td>\n",
       "<td><b>cumulative_data_fraction</b></td>\n",
       "<td><b>lower_threshold</b></td>\n",
       "<td><b>lift</b></td>\n",
       "<td><b>cumulative_lift</b></td>\n",
       "<td><b>response_rate</b></td>\n",
       "<td><b>cumulative_response_rate</b></td>\n",
       "<td><b>capture_rate</b></td>\n",
       "<td><b>cumulative_capture_rate</b></td>\n",
       "<td><b>gain</b></td>\n",
       "<td><b>cumulative_gain</b></td></tr>\n",
       "<tr><td></td>\n",
       "<td>1</td>\n",
       "<td>0.0491400</td>\n",
       "<td>0.2222222</td>\n",
       "<td>2.035</td>\n",
       "<td>2.035</td>\n",
       "<td>0.05</td>\n",
       "<td>0.05</td>\n",
       "<td>0.1</td>\n",
       "<td>0.1</td>\n",
       "<td>103.5000000</td>\n",
       "<td>103.5000000</td></tr>\n",
       "<tr><td></td>\n",
       "<td>2</td>\n",
       "<td>0.2063882</td>\n",
       "<td>0.1111111</td>\n",
       "<td>2.54375</td>\n",
       "<td>2.4226190</td>\n",
       "<td>0.0625</td>\n",
       "<td>0.0595238</td>\n",
       "<td>0.4</td>\n",
       "<td>0.5</td>\n",
       "<td>154.3750000</td>\n",
       "<td>142.2619048</td></tr>\n",
       "<tr><td></td>\n",
       "<td>3</td>\n",
       "<td>1.0</td>\n",
       "<td>0.0</td>\n",
       "<td>0.6300310</td>\n",
       "<td>1.0</td>\n",
       "<td>0.0154799</td>\n",
       "<td>0.0245700</td>\n",
       "<td>0.5</td>\n",
       "<td>1.0</td>\n",
       "<td>-36.9969040</td>\n",
       "<td>0.0</td></tr></table></div>"
      ],
      "text/plain": [
       "    group    cumulative_data_fraction    lower_threshold    lift      cumulative_lift    response_rate    cumulative_response_rate    capture_rate    cumulative_capture_rate    gain      cumulative_gain\n",
       "--  -------  --------------------------  -----------------  --------  -----------------  ---------------  --------------------------  --------------  -------------------------  --------  -----------------\n",
       "    1        0.04914                     0.222222           2.035     2.035              0.05             0.05                        0.1             0.1                        103.5     103.5\n",
       "    2        0.206388                    0.111111           2.54375   2.42262            0.0625           0.0595238                   0.4             0.5                        154.375   142.262\n",
       "    3        1                           0                  0.630031  1                  0.0154799        0.02457                     0.5             1                          -36.9969  0"
      ]
     },
     "metadata": {},
     "output_type": "display_data"
    },
    {
     "name": "stdout",
     "output_type": "stream",
     "text": [
      "\n",
      "\n",
      "ModelMetricsBinomial: drf\n",
      "** Reported on cross-validation data. **\n",
      "\n",
      "MSE: 0.03237162209591445\n",
      "RMSE: 0.17992115522059782\n",
      "LogLoss: 0.7639326486896936\n",
      "Mean Per-Class Error: 0.4824554069119287\n",
      "AUC: 0.5104933110367893\n",
      "Gini: 0.020986622073578598\n",
      "Confusion Matrix (Act/Pred) for max f1 @ threshold = 0.25: \n"
     ]
    },
    {
     "data": {
      "text/html": [
       "<div style=\"overflow:auto\"><table style=\"width:50%\"><tr><td><b></b></td>\n",
       "<td><b>0</b></td>\n",
       "<td><b>1</b></td>\n",
       "<td><b>Error</b></td>\n",
       "<td><b>Rate</b></td></tr>\n",
       "<tr><td>0</td>\n",
       "<td>1513.0</td>\n",
       "<td>47.0</td>\n",
       "<td>0.0301</td>\n",
       "<td> (47.0/1560.0)</td></tr>\n",
       "<tr><td>1</td>\n",
       "<td>43.0</td>\n",
       "<td>3.0</td>\n",
       "<td>0.9348</td>\n",
       "<td> (43.0/46.0)</td></tr>\n",
       "<tr><td>Total</td>\n",
       "<td>1556.0</td>\n",
       "<td>50.0</td>\n",
       "<td>0.056</td>\n",
       "<td> (90.0/1606.0)</td></tr></table></div>"
      ],
      "text/plain": [
       "       0     1    Error    Rate\n",
       "-----  ----  ---  -------  -------------\n",
       "0      1513  47   0.0301   (47.0/1560.0)\n",
       "1      43    3    0.9348   (43.0/46.0)\n",
       "Total  1556  50   0.056    (90.0/1606.0)"
      ]
     },
     "metadata": {},
     "output_type": "display_data"
    },
    {
     "name": "stdout",
     "output_type": "stream",
     "text": [
      "Maximum Metrics: Maximum metrics at their respective thresholds\n",
      "\n"
     ]
    },
    {
     "data": {
      "text/html": [
       "<div style=\"overflow:auto\"><table style=\"width:50%\"><tr><td><b>metric</b></td>\n",
       "<td><b>threshold</b></td>\n",
       "<td><b>value</b></td>\n",
       "<td><b>idx</b></td></tr>\n",
       "<tr><td>max f1</td>\n",
       "<td>0.25</td>\n",
       "<td>0.0625000</td>\n",
       "<td>9.0</td></tr>\n",
       "<tr><td>max f2</td>\n",
       "<td>0.0</td>\n",
       "<td>0.1284916</td>\n",
       "<td>21.0</td></tr>\n",
       "<tr><td>max f0point5</td>\n",
       "<td>0.2597656</td>\n",
       "<td>0.0746269</td>\n",
       "<td>8.0</td></tr>\n",
       "<tr><td>max accuracy</td>\n",
       "<td>0.5</td>\n",
       "<td>0.9707347</td>\n",
       "<td>0.0</td></tr>\n",
       "<tr><td>max precision</td>\n",
       "<td>0.2597656</td>\n",
       "<td>0.0909091</td>\n",
       "<td>8.0</td></tr>\n",
       "<tr><td>max recall</td>\n",
       "<td>0.0</td>\n",
       "<td>1.0</td>\n",
       "<td>21.0</td></tr>\n",
       "<tr><td>max specificity</td>\n",
       "<td>0.5</td>\n",
       "<td>0.9993590</td>\n",
       "<td>0.0</td></tr>\n",
       "<tr><td>max absolute_mcc</td>\n",
       "<td>0.2597656</td>\n",
       "<td>0.0439939</td>\n",
       "<td>8.0</td></tr>\n",
       "<tr><td>max min_per_class_accuracy</td>\n",
       "<td>0.0909091</td>\n",
       "<td>0.2826087</td>\n",
       "<td>16.0</td></tr>\n",
       "<tr><td>max mean_per_class_accuracy</td>\n",
       "<td>0.25</td>\n",
       "<td>0.5175446</td>\n",
       "<td>9.0</td></tr></table></div>"
      ],
      "text/plain": [
       "metric                       threshold    value      idx\n",
       "---------------------------  -----------  ---------  -----\n",
       "max f1                       0.25         0.0625     9\n",
       "max f2                       0            0.128492   21\n",
       "max f0point5                 0.259766     0.0746269  8\n",
       "max accuracy                 0.5          0.970735   0\n",
       "max precision                0.259766     0.0909091  8\n",
       "max recall                   0            1          21\n",
       "max specificity              0.5          0.999359   0\n",
       "max absolute_mcc             0.259766     0.0439939  8\n",
       "max min_per_class_accuracy   0.0909091    0.282609   16\n",
       "max mean_per_class_accuracy  0.25         0.517545   9"
      ]
     },
     "metadata": {},
     "output_type": "display_data"
    },
    {
     "name": "stdout",
     "output_type": "stream",
     "text": [
      "Gains/Lift Table: Avg response rate:  2.86 %\n",
      "\n"
     ]
    },
    {
     "data": {
      "text/html": [
       "<div style=\"overflow:auto\"><table style=\"width:50%\"><tr><td><b></b></td>\n",
       "<td><b>group</b></td>\n",
       "<td><b>cumulative_data_fraction</b></td>\n",
       "<td><b>lower_threshold</b></td>\n",
       "<td><b>lift</b></td>\n",
       "<td><b>cumulative_lift</b></td>\n",
       "<td><b>response_rate</b></td>\n",
       "<td><b>cumulative_response_rate</b></td>\n",
       "<td><b>capture_rate</b></td>\n",
       "<td><b>cumulative_capture_rate</b></td>\n",
       "<td><b>gain</b></td>\n",
       "<td><b>cumulative_gain</b></td></tr>\n",
       "<tr><td></td>\n",
       "<td>1</td>\n",
       "<td>0.0105853</td>\n",
       "<td>0.2775253</td>\n",
       "<td>2.0537084</td>\n",
       "<td>2.0537084</td>\n",
       "<td>0.0588235</td>\n",
       "<td>0.0588235</td>\n",
       "<td>0.0217391</td>\n",
       "<td>0.0217391</td>\n",
       "<td>105.3708440</td>\n",
       "<td>105.3708440</td></tr>\n",
       "<tr><td></td>\n",
       "<td>2</td>\n",
       "<td>0.0311333</td>\n",
       "<td>0.25</td>\n",
       "<td>2.1159420</td>\n",
       "<td>2.0947826</td>\n",
       "<td>0.0606061</td>\n",
       "<td>0.06</td>\n",
       "<td>0.0434783</td>\n",
       "<td>0.0652174</td>\n",
       "<td>111.5942029</td>\n",
       "<td>109.4782609</td></tr>\n",
       "<tr><td></td>\n",
       "<td>3</td>\n",
       "<td>0.0460772</td>\n",
       "<td>0.2222222</td>\n",
       "<td>0.0</td>\n",
       "<td>1.4153937</td>\n",
       "<td>0.0</td>\n",
       "<td>0.0405405</td>\n",
       "<td>0.0</td>\n",
       "<td>0.0652174</td>\n",
       "<td>-100.0</td>\n",
       "<td>41.5393655</td></tr>\n",
       "<tr><td></td>\n",
       "<td>4</td>\n",
       "<td>0.0547945</td>\n",
       "<td>0.1818182</td>\n",
       "<td>2.4937888</td>\n",
       "<td>1.5869565</td>\n",
       "<td>0.0714286</td>\n",
       "<td>0.0454545</td>\n",
       "<td>0.0217391</td>\n",
       "<td>0.0869565</td>\n",
       "<td>149.3788820</td>\n",
       "<td>58.6956522</td></tr>\n",
       "<tr><td></td>\n",
       "<td>5</td>\n",
       "<td>0.1220423</td>\n",
       "<td>0.125</td>\n",
       "<td>0.3232689</td>\n",
       "<td>0.8906389</td>\n",
       "<td>0.0092593</td>\n",
       "<td>0.0255102</td>\n",
       "<td>0.0217391</td>\n",
       "<td>0.1086957</td>\n",
       "<td>-67.6731079</td>\n",
       "<td>-10.9361136</td></tr>\n",
       "<tr><td></td>\n",
       "<td>6</td>\n",
       "<td>0.2004981</td>\n",
       "<td>0.1111111</td>\n",
       "<td>1.1083506</td>\n",
       "<td>0.9758304</td>\n",
       "<td>0.0317460</td>\n",
       "<td>0.0279503</td>\n",
       "<td>0.0869565</td>\n",
       "<td>0.1956522</td>\n",
       "<td>10.8350587</td>\n",
       "<td>-2.4169592</td></tr>\n",
       "<tr><td></td>\n",
       "<td>7</td>\n",
       "<td>1.0</td>\n",
       "<td>0.0</td>\n",
       "<td>1.0060612</td>\n",
       "<td>1.0</td>\n",
       "<td>0.0288162</td>\n",
       "<td>0.0286426</td>\n",
       "<td>0.8043478</td>\n",
       "<td>1.0</td>\n",
       "<td>0.6061222</td>\n",
       "<td>0.0</td></tr></table></div>"
      ],
      "text/plain": [
       "    group    cumulative_data_fraction    lower_threshold    lift      cumulative_lift    response_rate    cumulative_response_rate    capture_rate    cumulative_capture_rate    gain      cumulative_gain\n",
       "--  -------  --------------------------  -----------------  --------  -----------------  ---------------  --------------------------  --------------  -------------------------  --------  -----------------\n",
       "    1        0.0105853                   0.277525           2.05371   2.05371            0.0588235        0.0588235                   0.0217391       0.0217391                  105.371   105.371\n",
       "    2        0.0311333                   0.25               2.11594   2.09478            0.0606061        0.06                        0.0434783       0.0652174                  111.594   109.478\n",
       "    3        0.0460772                   0.222222           0         1.41539            0                0.0405405                   0               0.0652174                  -100      41.5394\n",
       "    4        0.0547945                   0.181818           2.49379   1.58696            0.0714286        0.0454545                   0.0217391       0.0869565                  149.379   58.6957\n",
       "    5        0.122042                    0.125              0.323269  0.890639           0.00925926       0.0255102                   0.0217391       0.108696                   -67.6731  -10.9361\n",
       "    6        0.200498                    0.111111           1.10835   0.97583            0.031746         0.0279503                   0.0869565       0.195652                   10.8351   -2.41696\n",
       "    7        1                           0                  1.00606   1                  0.0288162        0.0286426                   0.804348        1                          0.606122  0"
      ]
     },
     "metadata": {},
     "output_type": "display_data"
    },
    {
     "name": "stdout",
     "output_type": "stream",
     "text": [
      "\n",
      "Cross-Validation Metrics Summary: \n"
     ]
    },
    {
     "data": {
      "text/html": [
       "<div style=\"overflow:auto\"><table style=\"width:50%\"><tr><td><b></b></td>\n",
       "<td><b>mean</b></td>\n",
       "<td><b>sd</b></td>\n",
       "<td><b>cv_1_valid</b></td>\n",
       "<td><b>cv_2_valid</b></td>\n",
       "<td><b>cv_3_valid</b></td>\n",
       "<td><b>cv_4_valid</b></td>\n",
       "<td><b>cv_5_valid</b></td></tr>\n",
       "<tr><td>accuracy</td>\n",
       "<td>0.5295776</td>\n",
       "<td>0.2967541</td>\n",
       "<td>0.0279503</td>\n",
       "<td>0.7009346</td>\n",
       "<td>0.9127726</td>\n",
       "<td>0.9781932</td>\n",
       "<td>0.0280374</td></tr>\n",
       "<tr><td>auc</td>\n",
       "<td>0.5278061</td>\n",
       "<td>0.0604174</td>\n",
       "<td>0.4889954</td>\n",
       "<td>0.5494506</td>\n",
       "<td>0.4807074</td>\n",
       "<td>0.6829114</td>\n",
       "<td>0.4369658</td></tr>\n",
       "<tr><td>err</td>\n",
       "<td>0.4704224</td>\n",
       "<td>0.2967541</td>\n",
       "<td>0.9720497</td>\n",
       "<td>0.2990654</td>\n",
       "<td>0.0872274</td>\n",
       "<td>0.0218069</td>\n",
       "<td>0.9719626</td></tr>\n",
       "<tr><td>err_count</td>\n",
       "<td>151.2</td>\n",
       "<td>95.42264</td>\n",
       "<td>313.0</td>\n",
       "<td>96.0</td>\n",
       "<td>28.0</td>\n",
       "<td>7.0</td>\n",
       "<td>312.0</td></tr>\n",
       "<tr><td>f0point5</td>\n",
       "<td>0.0949139</td>\n",
       "<td>0.0535631</td>\n",
       "<td>0.0346955</td>\n",
       "<td>0.0649351</td>\n",
       "<td>0.1020408</td>\n",
       "<td>0.2380952</td>\n",
       "<td>0.0348028</td></tr>\n",
       "<tr><td>f1</td>\n",
       "<td>0.1100976</td>\n",
       "<td>0.0438552</td>\n",
       "<td>0.0543807</td>\n",
       "<td>0.0943396</td>\n",
       "<td>0.125</td>\n",
       "<td>0.2222222</td>\n",
       "<td>0.0545455</td></tr>\n",
       "<tr><td>f2</td>\n",
       "<td>0.1587572</td>\n",
       "<td>0.0219393</td>\n",
       "<td>0.1256983</td>\n",
       "<td>0.1724138</td>\n",
       "<td>0.1612903</td>\n",
       "<td>0.2083333</td>\n",
       "<td>0.1260504</td></tr>\n",
       "<tr><td>lift_top_group</td>\n",
       "<td>3.5392308</td>\n",
       "<td>4.4461393</td>\n",
       "<td>0.0</td>\n",
       "<td>1.6461538</td>\n",
       "<td>0.0</td>\n",
       "<td>16.05</td>\n",
       "<td>0.0</td></tr>\n",
       "<tr><td>logloss</td>\n",
       "<td>0.7639118</td>\n",
       "<td>0.1769352</td>\n",
       "<td>0.797331</td>\n",
       "<td>0.9280359</td>\n",
       "<td>0.9128482</td>\n",
       "<td>0.2722377</td>\n",
       "<td>0.9091065</td></tr>\n",
       "<tr><td>max_per_class_error</td>\n",
       "<td>0.8430769</td>\n",
       "<td>0.1023742</td>\n",
       "<td>1.0</td>\n",
       "<td>0.6153846</td>\n",
       "<td>0.8</td>\n",
       "<td>0.8</td>\n",
       "<td>1.0</td></tr>\n",
       "<tr><td>mcc</td>\n",
       "<td>0.1163115</td>\n",
       "<td>0.0616233</td>\n",
       "<td>NaN</td>\n",
       "<td>0.0429773</td>\n",
       "<td>0.0933008</td>\n",
       "<td>0.2126563</td>\n",
       "<td>NaN</td></tr>\n",
       "<tr><td>mean_per_class_accuracy</td>\n",
       "<td>0.5425098</td>\n",
       "<td>0.0266197</td>\n",
       "<td>0.5</td>\n",
       "<td>0.5494506</td>\n",
       "<td>0.5678456</td>\n",
       "<td>0.5952532</td>\n",
       "<td>0.5</td></tr>\n",
       "<tr><td>mean_per_class_error</td>\n",
       "<td>0.4574901</td>\n",
       "<td>0.0266197</td>\n",
       "<td>0.5</td>\n",
       "<td>0.4505495</td>\n",
       "<td>0.4321543</td>\n",
       "<td>0.4047468</td>\n",
       "<td>0.5</td></tr>\n",
       "<tr><td>mse</td>\n",
       "<td>0.0323723</td>\n",
       "<td>0.0053310</td>\n",
       "<td>0.0312524</td>\n",
       "<td>0.0410963</td>\n",
       "<td>0.0359520</td>\n",
       "<td>0.0186724</td>\n",
       "<td>0.0348885</td></tr>\n",
       "<tr><td>precision</td>\n",
       "<td>0.0901320</td>\n",
       "<td>0.0588246</td>\n",
       "<td>0.0279503</td>\n",
       "<td>0.0537634</td>\n",
       "<td>0.0909091</td>\n",
       "<td>0.25</td>\n",
       "<td>0.0280374</td></tr>\n",
       "<tr><td>r2</td>\n",
       "<td>-0.1794078</td>\n",
       "<td>0.0524053</td>\n",
       "<td>-0.1502923</td>\n",
       "<td>-0.0575939</td>\n",
       "<td>-0.1911668</td>\n",
       "<td>-0.2177332</td>\n",
       "<td>-0.2802526</td></tr>\n",
       "<tr><td>recall</td>\n",
       "<td>0.5569231</td>\n",
       "<td>0.2602139</td>\n",
       "<td>1.0</td>\n",
       "<td>0.3846154</td>\n",
       "<td>0.2</td>\n",
       "<td>0.2</td>\n",
       "<td>1.0</td></tr>\n",
       "<tr><td>rmse</td>\n",
       "<td>0.1785095</td>\n",
       "<td>0.0159167</td>\n",
       "<td>0.1767835</td>\n",
       "<td>0.2027223</td>\n",
       "<td>0.1896101</td>\n",
       "<td>0.1366468</td>\n",
       "<td>0.1867847</td></tr>\n",
       "<tr><td>specificity</td>\n",
       "<td>0.5280967</td>\n",
       "<td>0.3118324</td>\n",
       "<td>0.0</td>\n",
       "<td>0.7142857</td>\n",
       "<td>0.9356913</td>\n",
       "<td>0.9905063</td>\n",
       "<td>0.0</td></tr></table></div>"
      ],
      "text/plain": [
       "                         mean       sd          cv_1_valid    cv_2_valid    cv_3_valid    cv_4_valid    cv_5_valid\n",
       "-----------------------  ---------  ----------  ------------  ------------  ------------  ------------  ------------\n",
       "accuracy                 0.529578   0.296754    0.0279503     0.700935      0.912773      0.978193      0.0280374\n",
       "auc                      0.527806   0.0604174   0.488995      0.549451      0.480707      0.682911      0.436966\n",
       "err                      0.470422   0.296754    0.97205       0.299065      0.0872274     0.0218069     0.971963\n",
       "err_count                151.2      95.4226     313           96            28            7             312\n",
       "f0point5                 0.0949139  0.0535631   0.0346955     0.0649351     0.102041      0.238095      0.0348028\n",
       "f1                       0.110098   0.0438552   0.0543807     0.0943396     0.125         0.222222      0.0545455\n",
       "f2                       0.158757   0.0219393   0.125698      0.172414      0.16129       0.208333      0.12605\n",
       "lift_top_group           3.53923    4.44614     0             1.64615       0             16.05         0\n",
       "logloss                  0.763912   0.176935    0.797331      0.928036      0.912848      0.272238      0.909107\n",
       "max_per_class_error      0.843077   0.102374    1             0.615385      0.8           0.8           1\n",
       "mcc                      0.116311   0.0616233   nan           0.0429773     0.0933008     0.212656      nan\n",
       "mean_per_class_accuracy  0.54251    0.0266197   0.5           0.549451      0.567846      0.595253      0.5\n",
       "mean_per_class_error     0.45749    0.0266197   0.5           0.450549      0.432154      0.404747      0.5\n",
       "mse                      0.0323723  0.00533101  0.0312524     0.0410963     0.035952      0.0186724     0.0348885\n",
       "precision                0.090132   0.0588246   0.0279503     0.0537634     0.0909091     0.25          0.0280374\n",
       "r2                       -0.179408  0.0524053   -0.150292     -0.0575939    -0.191167     -0.217733     -0.280253\n",
       "recall                   0.556923   0.260214    1             0.384615      0.2           0.2           1\n",
       "rmse                     0.178509   0.0159167   0.176783      0.202722      0.18961       0.136647      0.186785\n",
       "specificity              0.528097   0.311832    0             0.714286      0.935691      0.990506      0"
      ]
     },
     "metadata": {},
     "output_type": "display_data"
    },
    {
     "name": "stdout",
     "output_type": "stream",
     "text": [
      "Scoring History: \n"
     ]
    },
    {
     "data": {
      "text/html": [
       "<div style=\"overflow:auto\"><table style=\"width:50%\"><tr><td><b></b></td>\n",
       "<td><b>timestamp</b></td>\n",
       "<td><b>duration</b></td>\n",
       "<td><b>number_of_trees</b></td>\n",
       "<td><b>training_rmse</b></td>\n",
       "<td><b>training_logloss</b></td>\n",
       "<td><b>training_auc</b></td>\n",
       "<td><b>training_lift</b></td>\n",
       "<td><b>training_classification_error</b></td>\n",
       "<td><b>validation_rmse</b></td>\n",
       "<td><b>validation_logloss</b></td>\n",
       "<td><b>validation_auc</b></td>\n",
       "<td><b>validation_lift</b></td>\n",
       "<td><b>validation_classification_error</b></td></tr>\n",
       "<tr><td></td>\n",
       "<td>2018-04-12 23:12:07</td>\n",
       "<td> 1.105 sec</td>\n",
       "<td>0.0</td>\n",
       "<td>nan</td>\n",
       "<td>nan</td>\n",
       "<td>nan</td>\n",
       "<td>nan</td>\n",
       "<td>nan</td>\n",
       "<td>nan</td>\n",
       "<td>nan</td>\n",
       "<td>nan</td>\n",
       "<td>nan</td>\n",
       "<td>nan</td></tr>\n",
       "<tr><td></td>\n",
       "<td>2018-04-12 23:12:07</td>\n",
       "<td> 1.113 sec</td>\n",
       "<td>1.0</td>\n",
       "<td>0.2930164</td>\n",
       "<td>2.9654505</td>\n",
       "<td>0.5655697</td>\n",
       "<td>3.6750572</td>\n",
       "<td>0.0858586</td>\n",
       "<td>0.2377205</td>\n",
       "<td>1.9518227</td>\n",
       "<td>0.5323678</td>\n",
       "<td>2.7133333</td>\n",
       "<td>0.0565111</td></tr>\n",
       "<tr><td></td>\n",
       "<td>2018-04-12 23:12:07</td>\n",
       "<td> 1.120 sec</td>\n",
       "<td>2.0</td>\n",
       "<td>0.2427032</td>\n",
       "<td>1.8148796</td>\n",
       "<td>0.5840196</td>\n",
       "<td>4.6550725</td>\n",
       "<td>0.0774336</td>\n",
       "<td>0.2028664</td>\n",
       "<td>0.9726509</td>\n",
       "<td>0.5195214</td>\n",
       "<td>1.6280000</td>\n",
       "<td>0.0810811</td></tr>\n",
       "<tr><td></td>\n",
       "<td>2018-04-12 23:12:07</td>\n",
       "<td> 1.161 sec</td>\n",
       "<td>3.0</td>\n",
       "<td>0.2250291</td>\n",
       "<td>1.4302259</td>\n",
       "<td>0.5711996</td>\n",
       "<td>3.3250518</td>\n",
       "<td>0.0785838</td>\n",
       "<td>0.1787205</td>\n",
       "<td>0.6401156</td>\n",
       "<td>0.6073048</td>\n",
       "<td>3.3916667</td>\n",
       "<td>0.0982801</td></tr>\n",
       "<tr><td></td>\n",
       "<td>2018-04-12 23:12:07</td>\n",
       "<td> 1.172 sec</td>\n",
       "<td>4.0</td>\n",
       "<td>0.2169069</td>\n",
       "<td>1.2387773</td>\n",
       "<td>0.5691467</td>\n",
       "<td>1.9396135</td>\n",
       "<td>0.0856061</td>\n",
       "<td>0.1730454</td>\n",
       "<td>0.6370885</td>\n",
       "<td>0.5998741</td>\n",
       "<td>0.0</td>\n",
       "<td>0.1105651</td></tr>\n",
       "<tr><td></td>\n",
       "<td>2018-04-12 23:12:07</td>\n",
       "<td> 1.192 sec</td>\n",
       "<td>5.0</td>\n",
       "<td>0.2157568</td>\n",
       "<td>1.2431660</td>\n",
       "<td>0.5584509</td>\n",
       "<td>0.0</td>\n",
       "<td>0.0909727</td>\n",
       "<td>0.1691865</td>\n",
       "<td>0.5564701</td>\n",
       "<td>0.6410579</td>\n",
       "<td>0.0</td>\n",
       "<td>0.1203931</td></tr>\n",
       "<tr><td></td>\n",
       "<td>2018-04-12 23:12:07</td>\n",
       "<td> 1.210 sec</td>\n",
       "<td>6.0</td>\n",
       "<td>0.2134927</td>\n",
       "<td>1.1676765</td>\n",
       "<td>0.5565247</td>\n",
       "<td>2.0947826</td>\n",
       "<td>0.1039307</td>\n",
       "<td>0.1675346</td>\n",
       "<td>0.5577331</td>\n",
       "<td>0.6282116</td>\n",
       "<td>0.0</td>\n",
       "<td>0.1425061</td></tr>\n",
       "<tr><td></td>\n",
       "<td>2018-04-12 23:12:07</td>\n",
       "<td> 1.221 sec</td>\n",
       "<td>7.0</td>\n",
       "<td>0.2064101</td>\n",
       "<td>1.0339438</td>\n",
       "<td>0.5609136</td>\n",
       "<td>1.6238625</td>\n",
       "<td>0.1126302</td>\n",
       "<td>0.1635197</td>\n",
       "<td>0.4774354</td>\n",
       "<td>0.6726700</td>\n",
       "<td>2.9071429</td>\n",
       "<td>0.1597052</td></tr>\n",
       "<tr><td></td>\n",
       "<td>2018-04-12 23:12:07</td>\n",
       "<td> 1.232 sec</td>\n",
       "<td>8.0</td>\n",
       "<td>0.1997732</td>\n",
       "<td>0.9492196</td>\n",
       "<td>0.5665718</td>\n",
       "<td>1.1637681</td>\n",
       "<td>0.1193363</td>\n",
       "<td>0.1624315</td>\n",
       "<td>0.4793555</td>\n",
       "<td>0.6573048</td>\n",
       "<td>2.7133333</td>\n",
       "<td>0.1916462</td></tr>\n",
       "<tr><td></td>\n",
       "<td>2018-04-12 23:12:07</td>\n",
       "<td> 1.246 sec</td>\n",
       "<td>9.0</td>\n",
       "<td>0.1965494</td>\n",
       "<td>0.9000481</td>\n",
       "<td>0.5608976</td>\n",
       "<td>1.3428094</td>\n",
       "<td>0.1297468</td>\n",
       "<td>0.1620996</td>\n",
       "<td>0.4803503</td>\n",
       "<td>0.6473552</td>\n",
       "<td>2.035</td>\n",
       "<td>0.2063882</td></tr></table></div>"
      ],
      "text/plain": [
       "    timestamp            duration    number_of_trees    training_rmse    training_logloss    training_auc    training_lift    training_classification_error    validation_rmse    validation_logloss    validation_auc    validation_lift    validation_classification_error\n",
       "--  -------------------  ----------  -----------------  ---------------  ------------------  --------------  ---------------  -------------------------------  -----------------  --------------------  ----------------  -----------------  ---------------------------------\n",
       "    2018-04-12 23:12:07  1.105 sec   0                  nan              nan                 nan             nan              nan                              nan                nan                   nan               nan                nan\n",
       "    2018-04-12 23:12:07  1.113 sec   1                  0.293016         2.96545             0.56557         3.67506          0.0858586                        0.237721           1.95182               0.532368          2.71333            0.0565111\n",
       "    2018-04-12 23:12:07  1.120 sec   2                  0.242703         1.81488             0.58402         4.65507          0.0774336                        0.202866           0.972651              0.519521          1.628              0.0810811\n",
       "    2018-04-12 23:12:07  1.161 sec   3                  0.225029         1.43023             0.5712          3.32505          0.0785838                        0.178721           0.640116              0.607305          3.39167            0.0982801\n",
       "    2018-04-12 23:12:07  1.172 sec   4                  0.216907         1.23878             0.569147        1.93961          0.0856061                        0.173045           0.637089              0.599874          0                  0.110565\n",
       "    2018-04-12 23:12:07  1.192 sec   5                  0.215757         1.24317             0.558451        0                0.0909727                        0.169187           0.55647               0.641058          0                  0.120393\n",
       "    2018-04-12 23:12:07  1.210 sec   6                  0.213493         1.16768             0.556525        2.09478          0.103931                         0.167535           0.557733              0.628212          0                  0.142506\n",
       "    2018-04-12 23:12:07  1.221 sec   7                  0.20641          1.03394             0.560914        1.62386          0.11263                          0.16352            0.477435              0.67267           2.90714            0.159705\n",
       "    2018-04-12 23:12:07  1.232 sec   8                  0.199773         0.94922             0.566572        1.16377          0.119336                         0.162431           0.479355              0.657305          2.71333            0.191646\n",
       "    2018-04-12 23:12:07  1.246 sec   9                  0.196549         0.900048            0.560898        1.34281          0.129747                         0.1621             0.48035               0.647355          2.035              0.206388"
      ]
     },
     "metadata": {},
     "output_type": "display_data"
    },
    {
     "name": "stdout",
     "output_type": "stream",
     "text": [
      "Variable Importances: \n"
     ]
    },
    {
     "data": {
      "text/html": [
       "<div style=\"overflow:auto\"><table style=\"width:50%\"><tr><td><b>variable</b></td>\n",
       "<td><b>relative_importance</b></td>\n",
       "<td><b>scaled_importance</b></td>\n",
       "<td><b>percentage</b></td></tr>\n",
       "<tr><td>Called_Duration</td>\n",
       "<td>22.7665272</td>\n",
       "<td>1.0</td>\n",
       "<td>0.0896434</td></tr>\n",
       "<tr><td>T7_Flux</td>\n",
       "<td>20.8016472</td>\n",
       "<td>0.9136943</td>\n",
       "<td>0.0819067</td></tr>\n",
       "<tr><td>T8_Flux</td>\n",
       "<td>20.3871517</td>\n",
       "<td>0.8954880</td>\n",
       "<td>0.0802746</td></tr>\n",
       "<tr><td>T6_Flux</td>\n",
       "<td>19.7588310</td>\n",
       "<td>0.8678895</td>\n",
       "<td>0.0778006</td></tr>\n",
       "<tr><td>Domestic_Duration</td>\n",
       "<td>19.1566620</td>\n",
       "<td>0.8414398</td>\n",
       "<td>0.0754296</td></tr>\n",
       "<tr><td>T9_Flux</td>\n",
       "<td>17.7878418</td>\n",
       "<td>0.7813156</td>\n",
       "<td>0.0700398</td></tr>\n",
       "<tr><td>Contact_Area_Diversity</td>\n",
       "<td>17.7812481</td>\n",
       "<td>0.7810259</td>\n",
       "<td>0.0700138</td></tr>\n",
       "<tr><td>T5_Flux</td>\n",
       "<td>16.8876324</td>\n",
       "<td>0.7417746</td>\n",
       "<td>0.0664952</td></tr>\n",
       "<tr><td>T2_Flux</td>\n",
       "<td>15.2913303</td>\n",
       "<td>0.6716584</td>\n",
       "<td>0.0602098</td></tr>\n",
       "<tr><td>Calling_Duration</td>\n",
       "<td>13.1978283</td>\n",
       "<td>0.5797032</td>\n",
       "<td>0.0519666</td></tr>\n",
       "<tr><td>Contact_Diversity</td>\n",
       "<td>13.1441040</td>\n",
       "<td>0.5773434</td>\n",
       "<td>0.0517550</td></tr>\n",
       "<tr><td>T1_Flux</td>\n",
       "<td>13.0741806</td>\n",
       "<td>0.5742721</td>\n",
       "<td>0.0514797</td></tr>\n",
       "<tr><td>T4_Flux</td>\n",
       "<td>11.7092562</td>\n",
       "<td>0.5143189</td>\n",
       "<td>0.0461053</td></tr>\n",
       "<tr><td>T10_Flux</td>\n",
       "<td>8.8292561</td>\n",
       "<td>0.3878174</td>\n",
       "<td>0.0347653</td></tr>\n",
       "<tr><td>Roam_Ratio</td>\n",
       "<td>8.3297014</td>\n",
       "<td>0.3658749</td>\n",
       "<td>0.0327983</td></tr>\n",
       "<tr><td>Visiting_Area_Diversity</td>\n",
       "<td>7.4799643</td>\n",
       "<td>0.3285510</td>\n",
       "<td>0.0294524</td></tr>\n",
       "<tr><td>Transfered_Duration</td>\n",
       "<td>6.3274179</td>\n",
       "<td>0.2779264</td>\n",
       "<td>0.0249143</td></tr>\n",
       "<tr><td>International_Duration</td>\n",
       "<td>1.2570148</td>\n",
       "<td>0.0552133</td>\n",
       "<td>0.0049495</td></tr>\n",
       "<tr><td>T3_Flux</td>\n",
       "<td>0.0</td>\n",
       "<td>0.0</td>\n",
       "<td>0.0</td></tr>\n",
       "<tr><td>T11_Flux</td>\n",
       "<td>0.0</td>\n",
       "<td>0.0</td>\n",
       "<td>0.0</td></tr></table></div>"
      ],
      "text/plain": [
       "variable                 relative_importance    scaled_importance    percentage\n",
       "-----------------------  ---------------------  -------------------  ------------\n",
       "Called_Duration          22.7665                1                    0.0896434\n",
       "T7_Flux                  20.8016                0.913694             0.0819067\n",
       "T8_Flux                  20.3872                0.895488             0.0802746\n",
       "T6_Flux                  19.7588                0.86789              0.0778006\n",
       "Domestic_Duration        19.1567                0.84144              0.0754296\n",
       "T9_Flux                  17.7878                0.781316             0.0700398\n",
       "Contact_Area_Diversity   17.7812                0.781026             0.0700138\n",
       "T5_Flux                  16.8876                0.741775             0.0664952\n",
       "T2_Flux                  15.2913                0.671658             0.0602098\n",
       "Calling_Duration         13.1978                0.579703             0.0519666\n",
       "Contact_Diversity        13.1441                0.577343             0.051755\n",
       "T1_Flux                  13.0742                0.574272             0.0514797\n",
       "T4_Flux                  11.7093                0.514319             0.0461053\n",
       "T10_Flux                 8.82926                0.387817             0.0347653\n",
       "Roam_Ratio               8.3297                 0.365875             0.0327983\n",
       "Visiting_Area_Diversity  7.47996                0.328551             0.0294524\n",
       "Transfered_Duration      6.32742                0.277926             0.0249143\n",
       "International_Duration   1.25701                0.0552133            0.00494951\n",
       "T3_Flux                  0                      0                    0\n",
       "T11_Flux                 0                      0                    0"
      ]
     },
     "metadata": {},
     "output_type": "display_data"
    },
    {
     "data": {
      "text/plain": []
     },
     "execution_count": 93,
     "metadata": {},
     "output_type": "execute_result"
    }
   ],
   "source": [
    "aml.leader"
   ]
  }
 ],
 "metadata": {
  "kernelspec": {
   "display_name": "Python 3",
   "language": "python",
   "name": "python3"
  },
  "language_info": {
   "codemirror_mode": {
    "name": "ipython",
    "version": 3
   },
   "file_extension": ".py",
   "mimetype": "text/x-python",
   "name": "python",
   "nbconvert_exporter": "python",
   "pygments_lexer": "ipython3",
   "version": "3.6.5"
  }
 },
 "nbformat": 4,
 "nbformat_minor": 2
}
